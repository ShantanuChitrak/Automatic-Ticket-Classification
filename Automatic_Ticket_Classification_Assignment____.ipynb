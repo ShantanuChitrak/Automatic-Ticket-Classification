{
 "cells": [
  {
   "cell_type": "markdown",
   "metadata": {
    "id": "rhR-ZUkwJrFn"
   },
   "source": [
    "## Problem Statement \n",
    "\n",
    "You need to build a model that is able to classify customer complaints based on the products/services. By doing so, you can segregate these tickets into their relevant categories and, therefore, help in the quick resolution of the issue.\n",
    "\n",
    "You will be doing topic modelling on the <b>.json</b> data provided by the company. Since this data is not labelled, you need to apply NMF to analyse patterns and classify tickets into the following five clusters based on their products/services:\n",
    "\n",
    "* Credit card / Prepaid card\n",
    "\n",
    "* Bank account services\n",
    "\n",
    "* Theft/Dispute reporting\n",
    "\n",
    "* Mortgages/loans\n",
    "\n",
    "* Others \n",
    "\n",
    "\n",
    "With the help of topic modelling, you will be able to map each ticket onto its respective department/category. You can then use this data to train any supervised model such as logistic regression, decision tree or random forest. Using this trained model, you can classify any new customer complaint support ticket into its relevant department."
   ]
  },
  {
   "cell_type": "markdown",
   "metadata": {
    "id": "mcgXVNyaLUFS"
   },
   "source": [
    "## Pipelines that needs to be performed:\n",
    "\n",
    "You need to perform the following eight major tasks to complete the assignment:\n",
    "\n",
    "1.  Data loading\n",
    "\n",
    "2. Text preprocessing\n",
    "\n",
    "3. Exploratory data analysis (EDA)\n",
    "\n",
    "4. Feature extraction\n",
    "\n",
    "5. Topic modelling \n",
    "\n",
    "6. Model building using supervised learning\n",
    "\n",
    "7. Model training and evaluation\n",
    "\n",
    "8. Model inference"
   ]
  },
  {
   "cell_type": "markdown",
   "metadata": {
    "id": "JuLFIymAL58u"
   },
   "source": [
    "## Importing the necessary libraries"
   ]
  },
  {
   "cell_type": "code",
   "execution_count": 184,
   "metadata": {
    "id": "O-Q9pqrcJrFr"
   },
   "outputs": [],
   "source": [
    "import json \n",
    "import numpy as np\n",
    "import pandas as pd\n",
    "import re, nltk, spacy, string\n",
    "import en_core_web_sm\n",
    "nlp = en_core_web_sm.load()\n",
    "\n",
    "from nltk.stem import WordNetLemmatizer\n",
    "from nltk.tokenize import word_tokenize\n",
    "from nltk.corpus import stopwords\n",
    "from nltk.stem import WordNetLemmatizer\n",
    "import seaborn as sns\n",
    "import matplotlib.pyplot as plt\n",
    "%matplotlib inline\n",
    "\n",
    "from plotly.offline import plot\n",
    "import plotly.graph_objects as go\n",
    "import plotly.express as px\n",
    "\n",
    "from sklearn.feature_extraction.text import CountVectorizer, TfidfVectorizer\n",
    "\n",
    "from pprint import pprint\n",
    "\n",
    "import warnings\n",
    "warnings.filterwarnings('ignore')"
   ]
  },
  {
   "cell_type": "markdown",
   "metadata": {
    "id": "KtRLCsNVJrFt"
   },
   "source": [
    "## Loading the data\n",
    "\n",
    "The data is in JSON format and we need to convert it to a dataframe."
   ]
  },
  {
   "cell_type": "code",
   "execution_count": 185,
   "metadata": {
    "id": "kBWR1fUbbTin"
   },
   "outputs": [],
   "source": [
    "# Opening JSON file \n",
    "f = open('complaints.json','r')    # Write the path to your data file and load it \n",
    "  \n",
    "# returns JSON object as  \n",
    "# a dictionary \n",
    "data = json.load(f)\n",
    "df = pd.json_normalize(data)"
   ]
  },
  {
   "cell_type": "markdown",
   "metadata": {
    "id": "_xYpH-sAJrFu"
   },
   "source": [
    "## Data preparation"
   ]
  },
  {
   "cell_type": "code",
   "execution_count": 186,
   "metadata": {
    "colab": {
     "base_uri": "https://localhost:8080/",
     "height": 473
    },
    "id": "Lf8ufHH5JrFu",
    "outputId": "c795ee9e-0944-401e-97f1-6e86bfe64316"
   },
   "outputs": [
    {
     "data": {
      "text/html": [
       "<div>\n",
       "<style scoped>\n",
       "    .dataframe tbody tr th:only-of-type {\n",
       "        vertical-align: middle;\n",
       "    }\n",
       "\n",
       "    .dataframe tbody tr th {\n",
       "        vertical-align: top;\n",
       "    }\n",
       "\n",
       "    .dataframe thead th {\n",
       "        text-align: right;\n",
       "    }\n",
       "</style>\n",
       "<table border=\"1\" class=\"dataframe\">\n",
       "  <thead>\n",
       "    <tr style=\"text-align: right;\">\n",
       "      <th></th>\n",
       "      <th>_index</th>\n",
       "      <th>_type</th>\n",
       "      <th>_id</th>\n",
       "      <th>_score</th>\n",
       "      <th>_source.tags</th>\n",
       "      <th>_source.zip_code</th>\n",
       "      <th>_source.complaint_id</th>\n",
       "      <th>_source.issue</th>\n",
       "      <th>_source.date_received</th>\n",
       "      <th>_source.state</th>\n",
       "      <th>...</th>\n",
       "      <th>_source.company_response</th>\n",
       "      <th>_source.company</th>\n",
       "      <th>_source.submitted_via</th>\n",
       "      <th>_source.date_sent_to_company</th>\n",
       "      <th>_source.company_public_response</th>\n",
       "      <th>_source.sub_product</th>\n",
       "      <th>_source.timely</th>\n",
       "      <th>_source.complaint_what_happened</th>\n",
       "      <th>_source.sub_issue</th>\n",
       "      <th>_source.consumer_consent_provided</th>\n",
       "    </tr>\n",
       "  </thead>\n",
       "  <tbody>\n",
       "    <tr>\n",
       "      <th>78308</th>\n",
       "      <td>complaint-public-v2</td>\n",
       "      <td>complaint</td>\n",
       "      <td>3105617</td>\n",
       "      <td>0.0</td>\n",
       "      <td>None</td>\n",
       "      <td>08857</td>\n",
       "      <td>3105617</td>\n",
       "      <td>Closing an account</td>\n",
       "      <td>2018-12-20T12:00:00-05:00</td>\n",
       "      <td>NJ</td>\n",
       "      <td>...</td>\n",
       "      <td>Closed with explanation</td>\n",
       "      <td>JPMORGAN CHASE &amp; CO.</td>\n",
       "      <td>Web</td>\n",
       "      <td>2018-12-21T12:00:00-05:00</td>\n",
       "      <td>None</td>\n",
       "      <td>Checking account</td>\n",
       "      <td>Yes</td>\n",
       "      <td></td>\n",
       "      <td>Funds not received from closed account</td>\n",
       "      <td>Consent not provided</td>\n",
       "    </tr>\n",
       "    <tr>\n",
       "      <th>78309</th>\n",
       "      <td>complaint-public-v2</td>\n",
       "      <td>complaint</td>\n",
       "      <td>3091984</td>\n",
       "      <td>0.0</td>\n",
       "      <td>None</td>\n",
       "      <td>934XX</td>\n",
       "      <td>3091984</td>\n",
       "      <td>Other features, terms, or problems</td>\n",
       "      <td>2018-12-05T12:00:00-05:00</td>\n",
       "      <td>CA</td>\n",
       "      <td>...</td>\n",
       "      <td>Closed with monetary relief</td>\n",
       "      <td>JPMORGAN CHASE &amp; CO.</td>\n",
       "      <td>Web</td>\n",
       "      <td>2018-12-05T12:00:00-05:00</td>\n",
       "      <td>None</td>\n",
       "      <td>General-purpose credit card or charge card</td>\n",
       "      <td>Yes</td>\n",
       "      <td>On Wednesday, XX/XX/XXXX I called Chas, my XXX...</td>\n",
       "      <td>Other problem</td>\n",
       "      <td>Consent provided</td>\n",
       "    </tr>\n",
       "    <tr>\n",
       "      <th>78310</th>\n",
       "      <td>complaint-public-v2</td>\n",
       "      <td>complaint</td>\n",
       "      <td>3133355</td>\n",
       "      <td>0.0</td>\n",
       "      <td>None</td>\n",
       "      <td>923XX</td>\n",
       "      <td>3133355</td>\n",
       "      <td>Problem with a lender or other company chargin...</td>\n",
       "      <td>2019-01-25T12:00:00-05:00</td>\n",
       "      <td>CA</td>\n",
       "      <td>...</td>\n",
       "      <td>Closed with explanation</td>\n",
       "      <td>JPMORGAN CHASE &amp; CO.</td>\n",
       "      <td>Web</td>\n",
       "      <td>2019-01-25T12:00:00-05:00</td>\n",
       "      <td>None</td>\n",
       "      <td>Checking account</td>\n",
       "      <td>Yes</td>\n",
       "      <td>I am not familiar with XXXX pay and did not un...</td>\n",
       "      <td>Transaction was not authorized</td>\n",
       "      <td>Consent provided</td>\n",
       "    </tr>\n",
       "    <tr>\n",
       "      <th>78311</th>\n",
       "      <td>complaint-public-v2</td>\n",
       "      <td>complaint</td>\n",
       "      <td>3110963</td>\n",
       "      <td>0.0</td>\n",
       "      <td>None</td>\n",
       "      <td>None</td>\n",
       "      <td>3110963</td>\n",
       "      <td>Other features, terms, or problems</td>\n",
       "      <td>2018-12-27T12:00:00-05:00</td>\n",
       "      <td>PA</td>\n",
       "      <td>...</td>\n",
       "      <td>Closed with monetary relief</td>\n",
       "      <td>JPMORGAN CHASE &amp; CO.</td>\n",
       "      <td>Web</td>\n",
       "      <td>2018-12-27T12:00:00-05:00</td>\n",
       "      <td>None</td>\n",
       "      <td>General-purpose credit card or charge card</td>\n",
       "      <td>Yes</td>\n",
       "      <td>I have had flawless credit for 30 yrs. I've ha...</td>\n",
       "      <td>Problem with balance transfer</td>\n",
       "      <td>Consent provided</td>\n",
       "    </tr>\n",
       "    <tr>\n",
       "      <th>78312</th>\n",
       "      <td>complaint-public-v2</td>\n",
       "      <td>complaint</td>\n",
       "      <td>2001189</td>\n",
       "      <td>0.0</td>\n",
       "      <td>None</td>\n",
       "      <td>None</td>\n",
       "      <td>2001189</td>\n",
       "      <td>Payment to acct not credited</td>\n",
       "      <td>2016-07-06T12:00:00-05:00</td>\n",
       "      <td>MI</td>\n",
       "      <td>...</td>\n",
       "      <td>Closed with explanation</td>\n",
       "      <td>JPMORGAN CHASE &amp; CO.</td>\n",
       "      <td>Web</td>\n",
       "      <td>2016-07-07T12:00:00-05:00</td>\n",
       "      <td>None</td>\n",
       "      <td>None</td>\n",
       "      <td>Yes</td>\n",
       "      <td>Roughly 10+ years ago I closed out my accounts...</td>\n",
       "      <td>None</td>\n",
       "      <td>Consent provided</td>\n",
       "    </tr>\n",
       "  </tbody>\n",
       "</table>\n",
       "<p>5 rows × 22 columns</p>\n",
       "</div>"
      ],
      "text/plain": [
       "                    _index      _type      _id  _score _source.tags  \\\n",
       "78308  complaint-public-v2  complaint  3105617     0.0         None   \n",
       "78309  complaint-public-v2  complaint  3091984     0.0         None   \n",
       "78310  complaint-public-v2  complaint  3133355     0.0         None   \n",
       "78311  complaint-public-v2  complaint  3110963     0.0         None   \n",
       "78312  complaint-public-v2  complaint  2001189     0.0         None   \n",
       "\n",
       "      _source.zip_code _source.complaint_id  \\\n",
       "78308            08857              3105617   \n",
       "78309            934XX              3091984   \n",
       "78310            923XX              3133355   \n",
       "78311             None              3110963   \n",
       "78312             None              2001189   \n",
       "\n",
       "                                           _source.issue  \\\n",
       "78308                                 Closing an account   \n",
       "78309                 Other features, terms, or problems   \n",
       "78310  Problem with a lender or other company chargin...   \n",
       "78311                 Other features, terms, or problems   \n",
       "78312                       Payment to acct not credited   \n",
       "\n",
       "           _source.date_received _source.state  ...  \\\n",
       "78308  2018-12-20T12:00:00-05:00            NJ  ...   \n",
       "78309  2018-12-05T12:00:00-05:00            CA  ...   \n",
       "78310  2019-01-25T12:00:00-05:00            CA  ...   \n",
       "78311  2018-12-27T12:00:00-05:00            PA  ...   \n",
       "78312  2016-07-06T12:00:00-05:00            MI  ...   \n",
       "\n",
       "          _source.company_response       _source.company  \\\n",
       "78308      Closed with explanation  JPMORGAN CHASE & CO.   \n",
       "78309  Closed with monetary relief  JPMORGAN CHASE & CO.   \n",
       "78310      Closed with explanation  JPMORGAN CHASE & CO.   \n",
       "78311  Closed with monetary relief  JPMORGAN CHASE & CO.   \n",
       "78312      Closed with explanation  JPMORGAN CHASE & CO.   \n",
       "\n",
       "      _source.submitted_via _source.date_sent_to_company  \\\n",
       "78308                   Web    2018-12-21T12:00:00-05:00   \n",
       "78309                   Web    2018-12-05T12:00:00-05:00   \n",
       "78310                   Web    2019-01-25T12:00:00-05:00   \n",
       "78311                   Web    2018-12-27T12:00:00-05:00   \n",
       "78312                   Web    2016-07-07T12:00:00-05:00   \n",
       "\n",
       "      _source.company_public_response  \\\n",
       "78308                            None   \n",
       "78309                            None   \n",
       "78310                            None   \n",
       "78311                            None   \n",
       "78312                            None   \n",
       "\n",
       "                              _source.sub_product _source.timely  \\\n",
       "78308                            Checking account            Yes   \n",
       "78309  General-purpose credit card or charge card            Yes   \n",
       "78310                            Checking account            Yes   \n",
       "78311  General-purpose credit card or charge card            Yes   \n",
       "78312                                        None            Yes   \n",
       "\n",
       "                         _source.complaint_what_happened  \\\n",
       "78308                                                      \n",
       "78309  On Wednesday, XX/XX/XXXX I called Chas, my XXX...   \n",
       "78310  I am not familiar with XXXX pay and did not un...   \n",
       "78311  I have had flawless credit for 30 yrs. I've ha...   \n",
       "78312  Roughly 10+ years ago I closed out my accounts...   \n",
       "\n",
       "                            _source.sub_issue  \\\n",
       "78308  Funds not received from closed account   \n",
       "78309                           Other problem   \n",
       "78310          Transaction was not authorized   \n",
       "78311           Problem with balance transfer   \n",
       "78312                                    None   \n",
       "\n",
       "      _source.consumer_consent_provided  \n",
       "78308              Consent not provided  \n",
       "78309                  Consent provided  \n",
       "78310                  Consent provided  \n",
       "78311                  Consent provided  \n",
       "78312                  Consent provided  \n",
       "\n",
       "[5 rows x 22 columns]"
      ]
     },
     "execution_count": 186,
     "metadata": {},
     "output_type": "execute_result"
    }
   ],
   "source": [
    "# Inspect the dataframe to understand the given data.\n",
    "\n",
    "df.tail()"
   ]
  },
  {
   "cell_type": "code",
   "execution_count": 187,
   "metadata": {
    "colab": {
     "base_uri": "https://localhost:8080/"
    },
    "id": "Dwcty-wmJrFw",
    "outputId": "41de4289-0415-4ace-d27b-37550056cab3"
   },
   "outputs": [
    {
     "data": {
      "text/plain": [
       "Index(['_index', '_type', '_id', '_score', '_source.tags', '_source.zip_code',\n",
       "       '_source.complaint_id', '_source.issue', '_source.date_received',\n",
       "       '_source.state', '_source.consumer_disputed', '_source.product',\n",
       "       '_source.company_response', '_source.company', '_source.submitted_via',\n",
       "       '_source.date_sent_to_company', '_source.company_public_response',\n",
       "       '_source.sub_product', '_source.timely',\n",
       "       '_source.complaint_what_happened', '_source.sub_issue',\n",
       "       '_source.consumer_consent_provided'],\n",
       "      dtype='object')"
      ]
     },
     "execution_count": 187,
     "metadata": {},
     "output_type": "execute_result"
    }
   ],
   "source": [
    "# Printing the column names\n",
    "\n",
    "df.columns"
   ]
  },
  {
   "cell_type": "code",
   "execution_count": 188,
   "metadata": {
    "colab": {
     "base_uri": "https://localhost:8080/"
    },
    "id": "FYCtKXD1JrFw",
    "outputId": "b659f0f1-ddd3-4b9c-9a65-6c7efad90113"
   },
   "outputs": [
    {
     "data": {
      "text/plain": [
       "Index(['index', 'type', 'id', 'score', 'source.tags', 'source.zipcode',\n",
       "       'source.complaintid', 'source.issue', 'source.datereceived',\n",
       "       'source.state', 'source.consumerdisputed', 'source.product',\n",
       "       'source.companyresponse', 'source.company', 'source.submittedvia',\n",
       "       'source.datesenttocompany', 'source.companypublicresponse',\n",
       "       'source.subproduct', 'source.timely', 'source.complaintwhathappened',\n",
       "       'source.subissue', 'source.consumerconsentprovided'],\n",
       "      dtype='object')"
      ]
     },
     "execution_count": 188,
     "metadata": {},
     "output_type": "execute_result"
    }
   ],
   "source": [
    "# Assiging new column names\n",
    "\n",
    "for column in df.columns:\n",
    "  string = \"\"\n",
    "  for i in range (0,len(column)):\n",
    "    if column[i] == \"_\":\n",
    "      continue\n",
    "    else:\n",
    "      string += column[i]\n",
    "  df.rename(columns = {column:string}, inplace = True)\n",
    "\n",
    "df.columns"
   ]
  },
  {
   "cell_type": "code",
   "execution_count": 189,
   "metadata": {
    "colab": {
     "base_uri": "https://localhost:8080/"
    },
    "id": "nbPh_DRGNC9B",
    "outputId": "c64c0c16-86ed-45c3-de04-b424874cd7fd"
   },
   "outputs": [
    {
     "data": {
      "text/plain": [
       "Index(['index', 'type', 'id', 'score', 'tags', 'zipcode', 'complaintid',\n",
       "       'issue', 'datereceived', 'state', 'consumerdisputed', 'product',\n",
       "       'companyresponse', 'company', 'submittedvia', 'datesenttocompany',\n",
       "       'companypublicresponse', 'subproduct', 'timely',\n",
       "       'complaintwhathappened', 'subissue', 'consumerconsentprovided'],\n",
       "      dtype='object')"
      ]
     },
     "execution_count": 189,
     "metadata": {},
     "output_type": "execute_result"
    }
   ],
   "source": [
    "# Extracting the actual column name\n",
    "\n",
    "for column in df.columns:\n",
    "  string = \"\"\n",
    "  src = \"\"\n",
    "  #print((column))\n",
    "  #print(len(column))\n",
    "  if len(column) > 6:\n",
    "    for i in range (0,6):\n",
    "      src += column[i]\n",
    "    #print(src)\n",
    "  if src == \"source\":\n",
    "    df.rename(columns = {column:column[7:]}, inplace = True)\n",
    "df.columns"
   ]
  },
  {
   "cell_type": "code",
   "execution_count": 190,
   "metadata": {
    "colab": {
     "base_uri": "https://localhost:8080/"
    },
    "id": "vjZu0wUHRpv9",
    "outputId": "3cd71248-cff3-489a-9801-dc2fc6178f9b"
   },
   "outputs": [
    {
     "data": {
      "text/plain": [
       "Index(['index', 'type', 'id', 'score', 'tags', 'zipcode', 'complaintid',\n",
       "       'issue', 'datereceived', 'state', 'consumerdisputed', 'product',\n",
       "       'companyresponse', 'company', 'submittedvia', 'datesenttocompany',\n",
       "       'companypublicresponse', 'subproduct', 'timely', 'complaints',\n",
       "       'subissue', 'consumerconsentprovided'],\n",
       "      dtype='object')"
      ]
     },
     "execution_count": 190,
     "metadata": {},
     "output_type": "execute_result"
    }
   ],
   "source": [
    "# Renaming the column \"complaintwhathappened\" as \"complaints\"\n",
    "\n",
    "df.rename(columns = {\"complaintwhathappened\":\"complaints\"}, inplace = True)\n",
    "df.columns"
   ]
  },
  {
   "cell_type": "code",
   "execution_count": 191,
   "metadata": {
    "colab": {
     "base_uri": "https://localhost:8080/"
    },
    "id": "orepgKDzTujk",
    "outputId": "c1f15512-8599-411e-8333-87078194748c"
   },
   "outputs": [
    {
     "data": {
      "text/plain": [
       "index                          0\n",
       "type                           0\n",
       "id                             0\n",
       "score                          0\n",
       "tags                           0\n",
       "zipcode                        0\n",
       "complaintid                    0\n",
       "issue                          0\n",
       "datereceived                   0\n",
       "state                          0\n",
       "consumerdisputed               0\n",
       "product                        0\n",
       "companyresponse                0\n",
       "company                        0\n",
       "submittedvia                   0\n",
       "datesenttocompany              0\n",
       "companypublicresponse          0\n",
       "subproduct                     0\n",
       "timely                         0\n",
       "complaints                 57241\n",
       "subissue                       0\n",
       "consumerconsentprovided        0\n",
       "dtype: int64"
      ]
     },
     "execution_count": 191,
     "metadata": {},
     "output_type": "execute_result"
    }
   ],
   "source": [
    "# Printing the sum of blank value present in every columns in the dataframe\n",
    "\n",
    "(df[:] == \"\").sum()"
   ]
  },
  {
   "cell_type": "code",
   "execution_count": 192,
   "metadata": {
    "colab": {
     "base_uri": "https://localhost:8080/"
    },
    "id": "grQUPFL5JrFx",
    "outputId": "e2ff4dc6-ac06-4589-d335-e8a3f934bbd0"
   },
   "outputs": [],
   "source": [
    "# Assiging nan in place of blanks in the complaints column\n",
    "\n",
    "df[\"complaints\"].replace(r'^\\s*$', np.nan, regex=True, inplace = True)"
   ]
  },
  {
   "cell_type": "code",
   "execution_count": 193,
   "metadata": {
    "colab": {
     "base_uri": "https://localhost:8080/"
    },
    "id": "jKfJQiLxTVm2",
    "outputId": "fcfd59f1-38fa-4fc3-bd53-b276fc6261a9",
    "scrolled": false
   },
   "outputs": [
    {
     "data": {
      "text/plain": [
       "index                      0\n",
       "type                       0\n",
       "id                         0\n",
       "score                      0\n",
       "tags                       0\n",
       "zipcode                    0\n",
       "complaintid                0\n",
       "issue                      0\n",
       "datereceived               0\n",
       "state                      0\n",
       "consumerdisputed           0\n",
       "product                    0\n",
       "companyresponse            0\n",
       "company                    0\n",
       "submittedvia               0\n",
       "datesenttocompany          0\n",
       "companypublicresponse      0\n",
       "subproduct                 0\n",
       "timely                     0\n",
       "complaints                 0\n",
       "subissue                   0\n",
       "consumerconsentprovided    0\n",
       "dtype: int64"
      ]
     },
     "execution_count": 193,
     "metadata": {},
     "output_type": "execute_result"
    }
   ],
   "source": [
    "# Printing sum of blank value after \"NaN\" replacement\n",
    "\n",
    "(df[:] == \"\").sum()"
   ]
  },
  {
   "cell_type": "code",
   "execution_count": 194,
   "metadata": {
    "id": "Jfxd8VSmJrFy"
   },
   "outputs": [],
   "source": [
    "# Removing all rows where complaints column is NaN\n",
    "\n",
    "df.dropna(inplace = True, subset=[\"complaints\"])"
   ]
  },
  {
   "cell_type": "code",
   "execution_count": 195,
   "metadata": {
    "colab": {
     "base_uri": "https://localhost:8080/"
    },
    "id": "zbxB3qAlUNP4",
    "outputId": "536ebd15-0ce8-4785-ed7f-4433c29e0b94"
   },
   "outputs": [
    {
     "data": {
      "text/plain": [
       "index                          0\n",
       "type                           0\n",
       "id                             0\n",
       "score                          0\n",
       "tags                       17256\n",
       "zipcode                     4645\n",
       "complaintid                    0\n",
       "issue                          0\n",
       "datereceived                   0\n",
       "state                        143\n",
       "consumerdisputed               0\n",
       "product                        0\n",
       "companyresponse                0\n",
       "company                        0\n",
       "submittedvia                   0\n",
       "datesenttocompany              0\n",
       "companypublicresponse      21070\n",
       "subproduct                  2109\n",
       "timely                         0\n",
       "complaints                     0\n",
       "subissue                    8176\n",
       "consumerconsentprovided        0\n",
       "dtype: int64"
      ]
     },
     "execution_count": 195,
     "metadata": {},
     "output_type": "execute_result"
    }
   ],
   "source": [
    "# Finding count of NaN value in other columns\n",
    "\n",
    "df.isna().sum()"
   ]
  },
  {
   "cell_type": "code",
   "execution_count": 196,
   "metadata": {
    "colab": {
     "base_uri": "https://localhost:8080/"
    },
    "id": "Z055-6fiUU-5",
    "outputId": "92e72628-8e07-42fb-dd60-b2caf17f8d80"
   },
   "outputs": [
    {
     "data": {
      "text/plain": [
       "(21072, 22)"
      ]
     },
     "execution_count": 196,
     "metadata": {},
     "output_type": "execute_result"
    }
   ],
   "source": [
    "# Printing shape \n",
    "\n",
    "df.shape"
   ]
  },
  {
   "cell_type": "code",
   "execution_count": 197,
   "metadata": {
    "colab": {
     "base_uri": "https://localhost:8080/"
    },
    "id": "0ajAJyMFGSOn",
    "outputId": "520c2880-fc3d-4ec2-de67-7bff86a52410"
   },
   "outputs": [
    {
     "data": {
      "text/plain": [
       "1        Good morning my name is XXXX XXXX and I apprec...\n",
       "2        I upgraded my XXXX XXXX card in XX/XX/2018 and...\n",
       "10       Chase Card was reported on XX/XX/2019. However...\n",
       "11       On XX/XX/2018, while trying to book a XXXX  XX...\n",
       "14       my grand son give me check for {$1600.00} i de...\n",
       "                               ...                        \n",
       "78303    After being a Chase Card customer for well ove...\n",
       "78309    On Wednesday, XX/XX/XXXX I called Chas, my XXX...\n",
       "78310    I am not familiar with XXXX pay and did not un...\n",
       "78311    I have had flawless credit for 30 yrs. I've ha...\n",
       "78312    Roughly 10+ years ago I closed out my accounts...\n",
       "Name: complaints, Length: 21072, dtype: object"
      ]
     },
     "execution_count": 197,
     "metadata": {},
     "output_type": "execute_result"
    }
   ],
   "source": [
    "# Printing the content of \"complaints\" column\n",
    "\n",
    "df[\"complaints\"]"
   ]
  },
  {
   "cell_type": "markdown",
   "metadata": {
    "id": "L944HZpsJrFy"
   },
   "source": [
    "## Prepare the text for topic modeling\n",
    "\n",
    "Once you have removed all the blank complaints, you need to:\n",
    "\n",
    "* Make the text lowercase\n",
    "* Remove text in square brackets\n",
    "* Remove punctuation\n",
    "* Remove words containing numbers\n",
    "\n",
    "\n",
    "Once you have done these cleaning operations you need to perform the following:\n",
    "* Lemmatize the texts\n",
    "* Extract the POS tags of the lemmatized text and remove all the words which have tags other than NN[tag == \"NN\"].\n"
   ]
  },
  {
   "cell_type": "code",
   "execution_count": 198,
   "metadata": {
    "id": "qm7SjjSkJrFz"
   },
   "outputs": [],
   "source": [
    "# Write your function here to clean the text and remove all the unnecessary elements.\n",
    "\n",
    "def clean_text(text):\n",
    "  text = text.lower()                 # Making the text lowercase\n",
    "  text = re.sub(r'\\[|\\]',\"\",text)     # Removing text in square brackets \n",
    "  text = re.sub(r'[^\\w\\s]',\"\",text)   # Removing punctuation\n",
    "  text = re.sub(r'\\w*\\d\\w*',\"\",text)  # Removing words containing numbers\n",
    "  return \" \".join(text.split())       # Removing unwanted empty spaces\n",
    "\n",
    "df['complaints'] = df['complaints'].apply(lambda text: clean_text(text))\n"
   ]
  },
  {
   "cell_type": "code",
   "execution_count": 199,
   "metadata": {},
   "outputs": [
    {
     "name": "stdout",
     "output_type": "stream",
     "text": [
      "good morning my name is xxxx xxxx and i appreciate it if you could help me put a stop to chase bank cardmember services in i wrote to chase asking for debt verification and what they sent me a statement which is not acceptable i am asking the bank to validate the debt instead i been receiving mail every month from them attempting to collect a debt i have a right to know this information as a consumer chase account xxxx xxxx xxxx xxxx thanks in advance for your help\n",
      "\n",
      "\n",
      "i upgraded my xxxx xxxx card in and was told by the agent who did the upgrade my anniversary date would not change it turned the agent was giving me the wrong information in order to upgrade the account xxxx changed my anniversary date from xxxxxxxx to xxxxxxxx without my consent xxxx has the recording of the agent who was misled me\n",
      "\n",
      "\n",
      "chase card was reported on however fraudulent application have been submitted my identity without my consent to fraudulently obtain services do not extend credit without verifying the identity of the applicant\n",
      "\n",
      "\n"
     ]
    }
   ],
   "source": [
    "# Creating a list containing all the contents of \"complaints\" cloumn/feature \n",
    "\n",
    "complaint_list = df.complaints.tolist()\n",
    "\n",
    "# Printing 3 \"complaints\" after cleaning text\n",
    "\n",
    "for i in range (0,3):\n",
    "    print(complaint_list[i])\n",
    "    print(\"\\n\")"
   ]
  },
  {
   "cell_type": "code",
   "execution_count": 200,
   "metadata": {
    "id": "zgOu8t8HJrFz"
   },
   "outputs": [],
   "source": [
    "# Writting function to Lemmatize the texts\n",
    "\n",
    "stop_words = stopwords.words(\"english\")\n",
    "\n",
    "# call preprocess function to create lemmatization list using complaint list\n",
    "wordnet_lemmatizer = WordNetLemmatizer()\n",
    "\n",
    "def lemmatize_sentence(sentence):\n",
    "    \n",
    "    words = word_tokenize(sentence)    # Tokenize into words\n",
    "    \n",
    "    words = [wordnet_lemmatizer.lemmatize(word, pos='n') for word in words if word not in stop_words]\n",
    "    \n",
    "    document = \" \".join(words)         # join words to make sentence\n",
    "    \n",
    "    return document\n"
   ]
  },
  {
   "cell_type": "code",
   "execution_count": 201,
   "metadata": {},
   "outputs": [
    {
     "data": {
      "text/plain": [
       "['good morning name xxxx xxxx appreciate could help put stop chase bank cardmember service wrote chase asking debt verification sent statement acceptable asking bank validate debt instead receiving mail every month attempting collect debt right know information consumer chase account xxxx xxxx xxxx xxxx thanks advance help',\n",
       " 'upgraded xxxx xxxx card told agent upgrade anniversary date would change turned agent giving wrong information order upgrade account xxxx changed anniversary date xxxxxxxx xxxxxxxx without consent xxxx recording agent misled',\n",
       " 'chase card reported however fraudulent application submitted identity without consent fraudulently obtain service extend credit without verifying identity applicant']"
      ]
     },
     "execution_count": 201,
     "metadata": {},
     "output_type": "execute_result"
    }
   ],
   "source": [
    "# Lematizing the complaint_list \n",
    "\n",
    "lemma_list = [lemmatize_sentence(sentence) for sentence in complaint_list]\n",
    "\n",
    "# print couple of sentences from lemmatize list\n",
    "\n",
    "lemma_list[:3]"
   ]
  },
  {
   "cell_type": "code",
   "execution_count": 202,
   "metadata": {
    "id": "uXnN7aa_JrF0"
   },
   "outputs": [
    {
     "data": {
      "text/html": [
       "<div>\n",
       "<style scoped>\n",
       "    .dataframe tbody tr th:only-of-type {\n",
       "        vertical-align: middle;\n",
       "    }\n",
       "\n",
       "    .dataframe tbody tr th {\n",
       "        vertical-align: top;\n",
       "    }\n",
       "\n",
       "    .dataframe thead th {\n",
       "        text-align: right;\n",
       "    }\n",
       "</style>\n",
       "<table border=\"1\" class=\"dataframe\">\n",
       "  <thead>\n",
       "    <tr style=\"text-align: right;\">\n",
       "      <th></th>\n",
       "      <th>complaints</th>\n",
       "      <th>lemmatized_Complaints</th>\n",
       "    </tr>\n",
       "  </thead>\n",
       "  <tbody>\n",
       "    <tr>\n",
       "      <th>0</th>\n",
       "      <td>good morning my name is xxxx xxxx and i apprec...</td>\n",
       "      <td>good morning name xxxx xxxx appreciate could h...</td>\n",
       "    </tr>\n",
       "    <tr>\n",
       "      <th>1</th>\n",
       "      <td>i upgraded my xxxx xxxx card in and was told b...</td>\n",
       "      <td>upgraded xxxx xxxx card told agent upgrade ann...</td>\n",
       "    </tr>\n",
       "    <tr>\n",
       "      <th>2</th>\n",
       "      <td>chase card was reported on however fraudulent ...</td>\n",
       "      <td>chase card reported however fraudulent applica...</td>\n",
       "    </tr>\n",
       "    <tr>\n",
       "      <th>3</th>\n",
       "      <td>on while trying to book a xxxx xxxx ticket i c...</td>\n",
       "      <td>trying book xxxx xxxx ticket came across offer...</td>\n",
       "    </tr>\n",
       "    <tr>\n",
       "      <th>4</th>\n",
       "      <td>my grand son give me check for i deposit it in...</td>\n",
       "      <td>grand son give check deposit chase account fun...</td>\n",
       "    </tr>\n",
       "  </tbody>\n",
       "</table>\n",
       "</div>"
      ],
      "text/plain": [
       "                                          complaints  \\\n",
       "0  good morning my name is xxxx xxxx and i apprec...   \n",
       "1  i upgraded my xxxx xxxx card in and was told b...   \n",
       "2  chase card was reported on however fraudulent ...   \n",
       "3  on while trying to book a xxxx xxxx ticket i c...   \n",
       "4  my grand son give me check for i deposit it in...   \n",
       "\n",
       "                               lemmatized_Complaints  \n",
       "0  good morning name xxxx xxxx appreciate could h...  \n",
       "1  upgraded xxxx xxxx card told agent upgrade ann...  \n",
       "2  chase card reported however fraudulent applica...  \n",
       "3  trying book xxxx xxxx ticket came across offer...  \n",
       "4  grand son give check deposit chase account fun...  "
      ]
     },
     "execution_count": 202,
     "metadata": {},
     "output_type": "execute_result"
    }
   ],
   "source": [
    "# Creating a dataframe('df_clean') that will have only the complaints and the lemmatized complaints \n",
    "\n",
    "df_clean = pd.DataFrame(list(zip(complaint_list, lemma_list)), columns =['complaints', 'lemmatized_Complaints'])\n",
    "\n",
    "# printing head \n",
    "\n",
    "df_clean.head()"
   ]
  },
  {
   "cell_type": "code",
   "execution_count": 203,
   "metadata": {
    "id": "Kk7fc4DuJrF1"
   },
   "outputs": [],
   "source": [
    "# Writting a function to extract the POS tags \n",
    "\n",
    "# Creating an object of Spacy pretained model\n",
    "\n",
    "nlp = spacy.load(\"en_core_web_sm\", disable=['parser','ner'])\n",
    "\n",
    "def pos_tag(text):\n",
    "    \n",
    "    words = \"\"\n",
    "       \n",
    "    tagged_sentence = nlp(text)\n",
    "    \n",
    "    for token in tagged_sentence:\n",
    "        if token.pos_ == \"NOUN\":\n",
    "            words += token.text + \" \" \n",
    "    \n",
    "    return words"
   ]
  },
  {
   "cell_type": "code",
   "execution_count": 204,
   "metadata": {},
   "outputs": [],
   "source": [
    "# Importing swifter package to vectorise the application of a function on all the data present in 'lemmatized_Complaints' columns\n",
    "\n",
    "#!pip install swifter\n",
    "\n",
    "import swifter"
   ]
  },
  {
   "cell_type": "code",
   "execution_count": 205,
   "metadata": {},
   "outputs": [
    {
     "data": {
      "application/vnd.jupyter.widget-view+json": {
       "model_id": "d126cbba61e54217922c466dac976c7d",
       "version_major": 2,
       "version_minor": 0
      },
      "text/plain": [
       "Pandas Apply:   0%|          | 0/21072 [00:00<?, ?it/s]"
      ]
     },
     "metadata": {},
     "output_type": "display_data"
    }
   ],
   "source": [
    "# Applying POS tagging on 'lemmatized_Complaints' columns and saving it to a new column in the dataframe\n",
    "\n",
    "df_clean['complaint_POS_removed'] =  df_clean['lemmatized_Complaints'].swifter.apply(pos_tag)"
   ]
  },
  {
   "cell_type": "code",
   "execution_count": 206,
   "metadata": {},
   "outputs": [
    {
     "data": {
      "text/plain": [
       "'good morning name xxxx xxxx appreciate could help put stop chase bank cardmember service wrote chase asking debt verification sent statement acceptable asking bank validate debt instead receiving mail every month attempting collect debt right know information consumer chase account xxxx xxxx xxxx xxxx thanks advance help'"
      ]
     },
     "execution_count": 206,
     "metadata": {},
     "output_type": "execute_result"
    }
   ],
   "source": [
    "# Printing first value of \"lemmatized_Complaints\" columns to check the difference after POS tagging\n",
    "\n",
    "df_clean[\"lemmatized_Complaints\"].iloc[0]"
   ]
  },
  {
   "cell_type": "code",
   "execution_count": 207,
   "metadata": {
    "id": "AjxfchvFJrF2"
   },
   "outputs": [
    {
     "data": {
      "text/plain": [
       "'morning name stop chase debt verification statement bank debt mail month debt information consumer chase account thanks advance help '"
      ]
     },
     "execution_count": 207,
     "metadata": {},
     "output_type": "execute_result"
    }
   ],
   "source": [
    "# Printing first value of \"complaint_POS_removed\" columns to check the difference after POS tagging\n",
    "\n",
    "df_clean[\"complaint_POS_removed\"].iloc[0]"
   ]
  },
  {
   "cell_type": "code",
   "execution_count": 208,
   "metadata": {},
   "outputs": [
    {
     "data": {
      "text/html": [
       "<div>\n",
       "<style scoped>\n",
       "    .dataframe tbody tr th:only-of-type {\n",
       "        vertical-align: middle;\n",
       "    }\n",
       "\n",
       "    .dataframe tbody tr th {\n",
       "        vertical-align: top;\n",
       "    }\n",
       "\n",
       "    .dataframe thead th {\n",
       "        text-align: right;\n",
       "    }\n",
       "</style>\n",
       "<table border=\"1\" class=\"dataframe\">\n",
       "  <thead>\n",
       "    <tr style=\"text-align: right;\">\n",
       "      <th></th>\n",
       "      <th>complaints</th>\n",
       "      <th>lemmatized_Complaints</th>\n",
       "      <th>complaint_POS_removed</th>\n",
       "    </tr>\n",
       "  </thead>\n",
       "  <tbody>\n",
       "    <tr>\n",
       "      <th>0</th>\n",
       "      <td>good morning my name is xxxx xxxx and i apprec...</td>\n",
       "      <td>good morning name xxxx xxxx appreciate could h...</td>\n",
       "      <td>morning name stop chase debt verification stat...</td>\n",
       "    </tr>\n",
       "    <tr>\n",
       "      <th>1</th>\n",
       "      <td>i upgraded my xxxx xxxx card in and was told b...</td>\n",
       "      <td>upgraded xxxx xxxx card told agent upgrade ann...</td>\n",
       "      <td>agent upgrade anniversary date agent informati...</td>\n",
       "    </tr>\n",
       "    <tr>\n",
       "      <th>2</th>\n",
       "      <td>chase card was reported on however fraudulent ...</td>\n",
       "      <td>chase card reported however fraudulent applica...</td>\n",
       "      <td>chase card application identity consent servic...</td>\n",
       "    </tr>\n",
       "    <tr>\n",
       "      <th>3</th>\n",
       "      <td>on while trying to book a xxxx xxxx ticket i c...</td>\n",
       "      <td>trying book xxxx xxxx ticket came across offer...</td>\n",
       "      <td>book ticket offer ticket reward card informati...</td>\n",
       "    </tr>\n",
       "    <tr>\n",
       "      <th>4</th>\n",
       "      <td>my grand son give me check for i deposit it in...</td>\n",
       "      <td>grand son give check deposit chase account fun...</td>\n",
       "      <td>son check deposit chase account account money ...</td>\n",
       "    </tr>\n",
       "    <tr>\n",
       "      <th>...</th>\n",
       "      <td>...</td>\n",
       "      <td>...</td>\n",
       "      <td>...</td>\n",
       "    </tr>\n",
       "    <tr>\n",
       "      <th>21067</th>\n",
       "      <td>after being a chase card customer for well ove...</td>\n",
       "      <td>chase card customer well decade offered multip...</td>\n",
       "      <td>chase card customer well decade solicitation c...</td>\n",
       "    </tr>\n",
       "    <tr>\n",
       "      <th>21068</th>\n",
       "      <td>on wednesday xxxxxxxx i called chas my xxxx xx...</td>\n",
       "      <td>wednesday xxxxxxxx called chas xxxx xxxx visa ...</td>\n",
       "      <td>credit card provider claim purchase protection...</td>\n",
       "    </tr>\n",
       "    <tr>\n",
       "      <th>21069</th>\n",
       "      <td>i am not familiar with xxxx pay and did not un...</td>\n",
       "      <td>familiar xxxx pay understand great risk provid...</td>\n",
       "      <td>pay risk consumer year trust banking deal merc...</td>\n",
       "    </tr>\n",
       "    <tr>\n",
       "      <th>21070</th>\n",
       "      <td>i have had flawless credit for yrs ive had cha...</td>\n",
       "      <td>flawless credit yr ive chase credit card chase...</td>\n",
       "      <td>credit yr chase credit card chase freedom prob...</td>\n",
       "    </tr>\n",
       "    <tr>\n",
       "      <th>21071</th>\n",
       "      <td>roughly years ago i closed out my accounts wit...</td>\n",
       "      <td>roughly year ago closed account jp morgan chas...</td>\n",
       "      <td>year account order line credit pay account pay...</td>\n",
       "    </tr>\n",
       "  </tbody>\n",
       "</table>\n",
       "<p>21072 rows × 3 columns</p>\n",
       "</div>"
      ],
      "text/plain": [
       "                                              complaints  \\\n",
       "0      good morning my name is xxxx xxxx and i apprec...   \n",
       "1      i upgraded my xxxx xxxx card in and was told b...   \n",
       "2      chase card was reported on however fraudulent ...   \n",
       "3      on while trying to book a xxxx xxxx ticket i c...   \n",
       "4      my grand son give me check for i deposit it in...   \n",
       "...                                                  ...   \n",
       "21067  after being a chase card customer for well ove...   \n",
       "21068  on wednesday xxxxxxxx i called chas my xxxx xx...   \n",
       "21069  i am not familiar with xxxx pay and did not un...   \n",
       "21070  i have had flawless credit for yrs ive had cha...   \n",
       "21071  roughly years ago i closed out my accounts wit...   \n",
       "\n",
       "                                   lemmatized_Complaints  \\\n",
       "0      good morning name xxxx xxxx appreciate could h...   \n",
       "1      upgraded xxxx xxxx card told agent upgrade ann...   \n",
       "2      chase card reported however fraudulent applica...   \n",
       "3      trying book xxxx xxxx ticket came across offer...   \n",
       "4      grand son give check deposit chase account fun...   \n",
       "...                                                  ...   \n",
       "21067  chase card customer well decade offered multip...   \n",
       "21068  wednesday xxxxxxxx called chas xxxx xxxx visa ...   \n",
       "21069  familiar xxxx pay understand great risk provid...   \n",
       "21070  flawless credit yr ive chase credit card chase...   \n",
       "21071  roughly year ago closed account jp morgan chas...   \n",
       "\n",
       "                                   complaint_POS_removed  \n",
       "0      morning name stop chase debt verification stat...  \n",
       "1      agent upgrade anniversary date agent informati...  \n",
       "2      chase card application identity consent servic...  \n",
       "3      book ticket offer ticket reward card informati...  \n",
       "4      son check deposit chase account account money ...  \n",
       "...                                                  ...  \n",
       "21067  chase card customer well decade solicitation c...  \n",
       "21068  credit card provider claim purchase protection...  \n",
       "21069  pay risk consumer year trust banking deal merc...  \n",
       "21070  credit yr chase credit card chase freedom prob...  \n",
       "21071  year account order line credit pay account pay...  \n",
       "\n",
       "[21072 rows x 3 columns]"
      ]
     },
     "execution_count": 208,
     "metadata": {},
     "output_type": "execute_result"
    }
   ],
   "source": [
    "# Checking the clean dataframe should now contain the raw complaint, lemmatized complaint and the complaint after removing POS tags.\n",
    "\n",
    "df_clean"
   ]
  },
  {
   "cell_type": "markdown",
   "metadata": {
    "id": "_7Un1AElJrF2"
   },
   "source": [
    "## Exploratory data analysis to get familiar with the data.\n",
    "\n",
    "Write the code in this task to perform the following:\n",
    "\n",
    "*   Visualise the data according to the 'Complaint' character length\n",
    "*   Using a word cloud find the top 40 words by frequency among all the articles after processing the text\n",
    "*   Find the top unigrams,bigrams and trigrams by frequency among all the complaints after processing the text. ‘\n",
    "\n",
    "\n"
   ]
  },
  {
   "cell_type": "code",
   "execution_count": 209,
   "metadata": {
    "id": "q-zaqJF6JrF2"
   },
   "outputs": [
    {
     "data": {
      "image/png": "[encoded data removed]",
      "text/plain": [
       "<Figure size 864x576 with 1 Axes>"
      ]
     },
     "metadata": {
      "needs_background": "light"
     },
     "output_type": "display_data"
    }
   ],
   "source": [
    "# Writting code to visualise the data according to the 'Complaint' character length\n",
    "\n",
    "plt.figure(figsize=(12,8))\n",
    "doc_lens = [len(sent) for sent in df_clean.complaints]\n",
    "plt.hist(doc_lens, bins = 30)\n",
    "plt.xlabel('complaint_bins')\n",
    "plt.ylabel('Character_length');"
   ]
  },
  {
   "cell_type": "code",
   "execution_count": 210,
   "metadata": {},
   "outputs": [],
   "source": [
    "#!pip install WordCloud"
   ]
  },
  {
   "cell_type": "markdown",
   "metadata": {
    "id": "T9jD_6SeJrF3"
   },
   "source": [
    "#### Find the top 40 words by frequency among all the articles after processing the text."
   ]
  },
  {
   "cell_type": "code",
   "execution_count": 211,
   "metadata": {
    "id": "QcfdvtfZJrF3"
   },
   "outputs": [
    {
     "data": {
      "image/png": "[encoded data removed]",
      "text/plain": [
       "<Figure size 1080x648 with 1 Axes>"
      ]
     },
     "metadata": {
      "needs_background": "light"
     },
     "output_type": "display_data"
    }
   ],
   "source": [
    "# Using a word cloud find the top 40 words by frequency among all the articles after processing the text\n",
    "\n",
    "from wordcloud import WordCloud\n",
    "\n",
    "wordcloud = WordCloud(stopwords=stop_words,max_words=40).generate(str(df_clean.complaint_POS_removed))\n",
    "plt.figure(figsize=(15,9))\n",
    "fig = plt.figure(1)\n",
    "plt.imshow(wordcloud)\n",
    "plt.axis('off')\n",
    "plt.show();"
   ]
  },
  {
   "cell_type": "code",
   "execution_count": 212,
   "metadata": {
    "id": "OkSmc3UaJrF4"
   },
   "outputs": [],
   "source": [
    "# Removing -PRON- from the text corpus\n",
    "\n",
    "df_clean['Complaint_clean'] = df_clean['complaint_POS_removed'].str.replace('-PRON-', '')"
   ]
  },
  {
   "cell_type": "markdown",
   "metadata": {
    "id": "5DfCSbbmJrF4"
   },
   "source": [
    "#### Find the top unigrams,bigrams and trigrams by frequency among all the complaints after processing the text."
   ]
  },
  {
   "cell_type": "code",
   "execution_count": 213,
   "metadata": {
    "id": "5mbk5DS5JrF4"
   },
   "outputs": [],
   "source": [
    "# Writting code to find the top 30 unigram frequency among the complaints in the cleaned datafram(df_clean). \n",
    "\n",
    "def get_top_unigrams(text, n=None):\n",
    "    vec = CountVectorizer(stop_words='english').fit(text)\n",
    "    bag_of_words = vec.transform(text)\n",
    "    sum_words = bag_of_words.sum(axis=0) \n",
    "    words_freq = [(word, sum_words[0, idx]) for word, idx in vec.vocabulary_.items()]\n",
    "    words_freq =sorted(words_freq, key = lambda x: x[1], reverse=True)\n",
    "    return words_freq[:n]"
   ]
  },
  {
   "cell_type": "code",
   "execution_count": 214,
   "metadata": {
    "id": "YX7fedm1JrF8"
   },
   "outputs": [
    {
     "data": {
      "text/html": [
       "<div>\n",
       "<style scoped>\n",
       "    .dataframe tbody tr th:only-of-type {\n",
       "        vertical-align: middle;\n",
       "    }\n",
       "\n",
       "    .dataframe tbody tr th {\n",
       "        vertical-align: top;\n",
       "    }\n",
       "\n",
       "    .dataframe thead th {\n",
       "        text-align: right;\n",
       "    }\n",
       "</style>\n",
       "<table border=\"1\" class=\"dataframe\">\n",
       "  <thead>\n",
       "    <tr style=\"text-align: right;\">\n",
       "      <th></th>\n",
       "      <th>unigram</th>\n",
       "      <th>count</th>\n",
       "    </tr>\n",
       "  </thead>\n",
       "  <tbody>\n",
       "    <tr>\n",
       "      <th>0</th>\n",
       "      <td>chase</td>\n",
       "      <td>59476</td>\n",
       "    </tr>\n",
       "    <tr>\n",
       "      <th>1</th>\n",
       "      <td>account</td>\n",
       "      <td>42390</td>\n",
       "    </tr>\n",
       "    <tr>\n",
       "      <th>2</th>\n",
       "      <td>credit</td>\n",
       "      <td>31732</td>\n",
       "    </tr>\n",
       "    <tr>\n",
       "      <th>3</th>\n",
       "      <td>card</td>\n",
       "      <td>29360</td>\n",
       "    </tr>\n",
       "    <tr>\n",
       "      <th>4</th>\n",
       "      <td>payment</td>\n",
       "      <td>20598</td>\n",
       "    </tr>\n",
       "    <tr>\n",
       "      <th>5</th>\n",
       "      <td>time</td>\n",
       "      <td>15501</td>\n",
       "    </tr>\n",
       "    <tr>\n",
       "      <th>6</th>\n",
       "      <td>bank</td>\n",
       "      <td>13795</td>\n",
       "    </tr>\n",
       "    <tr>\n",
       "      <th>7</th>\n",
       "      <td>charge</td>\n",
       "      <td>12449</td>\n",
       "    </tr>\n",
       "    <tr>\n",
       "      <th>8</th>\n",
       "      <td>day</td>\n",
       "      <td>12116</td>\n",
       "    </tr>\n",
       "    <tr>\n",
       "      <th>9</th>\n",
       "      <td>money</td>\n",
       "      <td>11828</td>\n",
       "    </tr>\n",
       "  </tbody>\n",
       "</table>\n",
       "</div>"
      ],
      "text/plain": [
       "   unigram  count\n",
       "0    chase  59476\n",
       "1  account  42390\n",
       "2   credit  31732\n",
       "3     card  29360\n",
       "4  payment  20598\n",
       "5     time  15501\n",
       "6     bank  13795\n",
       "7   charge  12449\n",
       "8      day  12116\n",
       "9    money  11828"
      ]
     },
     "execution_count": 214,
     "metadata": {},
     "output_type": "execute_result"
    }
   ],
   "source": [
    "# Printing the top 10 words in the unigram frequency\n",
    "\n",
    "common_words = get_top_unigrams(df_clean['Complaint_clean'].values.astype('U'), 30)\n",
    "unigram = pd.DataFrame(common_words, columns = ['unigram' , 'count'])\n",
    "unigram.head(10)"
   ]
  },
  {
   "cell_type": "code",
   "execution_count": 215,
   "metadata": {
    "id": "aV7kD7w8JrF8"
   },
   "outputs": [],
   "source": [
    "# Writting code to find the top 30 bigram frequency among the complaints in the cleaned datafram(df_clean)\n",
    "\n",
    "def get_top_bigrams(text, n=None):\n",
    "    vec = CountVectorizer(ngram_range=(2, 2), stop_words='english').fit(text)\n",
    "    bag_of_words = vec.transform(text)\n",
    "    sum_words = bag_of_words.sum(axis=0) \n",
    "    words_freq = [(word, sum_words[0, idx]) for word, idx in vec.vocabulary_.items()]\n",
    "    words_freq =sorted(words_freq, key = lambda x: x[1], reverse=True)\n",
    "    return words_freq[:n]"
   ]
  },
  {
   "cell_type": "code",
   "execution_count": 216,
   "metadata": {
    "id": "NPnMNIpyJrF9"
   },
   "outputs": [
    {
     "data": {
      "text/html": [
       "<div>\n",
       "<style scoped>\n",
       "    .dataframe tbody tr th:only-of-type {\n",
       "        vertical-align: middle;\n",
       "    }\n",
       "\n",
       "    .dataframe tbody tr th {\n",
       "        vertical-align: top;\n",
       "    }\n",
       "\n",
       "    .dataframe thead th {\n",
       "        text-align: right;\n",
       "    }\n",
       "</style>\n",
       "<table border=\"1\" class=\"dataframe\">\n",
       "  <thead>\n",
       "    <tr style=\"text-align: right;\">\n",
       "      <th></th>\n",
       "      <th>bigram</th>\n",
       "      <th>count</th>\n",
       "    </tr>\n",
       "  </thead>\n",
       "  <tbody>\n",
       "    <tr>\n",
       "      <th>0</th>\n",
       "      <td>credit card</td>\n",
       "      <td>12239</td>\n",
       "    </tr>\n",
       "    <tr>\n",
       "      <th>1</th>\n",
       "      <td>credit report</td>\n",
       "      <td>3624</td>\n",
       "    </tr>\n",
       "    <tr>\n",
       "      <th>2</th>\n",
       "      <td>account chase</td>\n",
       "      <td>3398</td>\n",
       "    </tr>\n",
       "    <tr>\n",
       "      <th>3</th>\n",
       "      <td>chase credit</td>\n",
       "      <td>3393</td>\n",
       "    </tr>\n",
       "    <tr>\n",
       "      <th>4</th>\n",
       "      <td>customer service</td>\n",
       "      <td>2787</td>\n",
       "    </tr>\n",
       "    <tr>\n",
       "      <th>5</th>\n",
       "      <td>chase account</td>\n",
       "      <td>2662</td>\n",
       "    </tr>\n",
       "    <tr>\n",
       "      <th>6</th>\n",
       "      <td>chase bank</td>\n",
       "      <td>2619</td>\n",
       "    </tr>\n",
       "    <tr>\n",
       "      <th>7</th>\n",
       "      <td>account account</td>\n",
       "      <td>2497</td>\n",
       "    </tr>\n",
       "    <tr>\n",
       "      <th>8</th>\n",
       "      <td>card chase</td>\n",
       "      <td>2121</td>\n",
       "    </tr>\n",
       "    <tr>\n",
       "      <th>9</th>\n",
       "      <td>checking account</td>\n",
       "      <td>1994</td>\n",
       "    </tr>\n",
       "  </tbody>\n",
       "</table>\n",
       "</div>"
      ],
      "text/plain": [
       "             bigram  count\n",
       "0       credit card  12239\n",
       "1     credit report   3624\n",
       "2     account chase   3398\n",
       "3      chase credit   3393\n",
       "4  customer service   2787\n",
       "5     chase account   2662\n",
       "6        chase bank   2619\n",
       "7   account account   2497\n",
       "8        card chase   2121\n",
       "9  checking account   1994"
      ]
     },
     "execution_count": 216,
     "metadata": {},
     "output_type": "execute_result"
    }
   ],
   "source": [
    "# Printing the top 10 words in the bigram frequency \n",
    "\n",
    "common_words = get_top_bigrams(df_clean['Complaint_clean'].values.astype('U'), 30)\n",
    "bigram = pd.DataFrame(common_words, columns = ['bigram' , 'count'])\n",
    "bigram.head(10)"
   ]
  },
  {
   "cell_type": "code",
   "execution_count": 217,
   "metadata": {
    "id": "Xkh7vtbtJrF-"
   },
   "outputs": [],
   "source": [
    "# Writting code to find the top 30 trigram frequency among the complaints in the cleaned datafram(df_clean). \n",
    "\n",
    "def get_top_trigrams(text, n=None):\n",
    "    vec = CountVectorizer(ngram_range=(3, 3), stop_words='english').fit(text)\n",
    "    bag_of_words = vec.transform(text)\n",
    "    sum_words = bag_of_words.sum(axis=0) \n",
    "    words_freq = [(word, sum_words[0, idx]) for word, idx in vec.vocabulary_.items()]\n",
    "    words_freq =sorted(words_freq, key = lambda x: x[1], reverse=True)\n",
    "    return words_freq[:n]"
   ]
  },
  {
   "cell_type": "code",
   "execution_count": 218,
   "metadata": {
    "id": "REcVxNfvJrF-"
   },
   "outputs": [
    {
     "data": {
      "text/html": [
       "<div>\n",
       "<style scoped>\n",
       "    .dataframe tbody tr th:only-of-type {\n",
       "        vertical-align: middle;\n",
       "    }\n",
       "\n",
       "    .dataframe tbody tr th {\n",
       "        vertical-align: top;\n",
       "    }\n",
       "\n",
       "    .dataframe thead th {\n",
       "        text-align: right;\n",
       "    }\n",
       "</style>\n",
       "<table border=\"1\" class=\"dataframe\">\n",
       "  <thead>\n",
       "    <tr style=\"text-align: right;\">\n",
       "      <th></th>\n",
       "      <th>trigram</th>\n",
       "      <th>count</th>\n",
       "    </tr>\n",
       "  </thead>\n",
       "  <tbody>\n",
       "    <tr>\n",
       "      <th>0</th>\n",
       "      <td>chase credit card</td>\n",
       "      <td>2291</td>\n",
       "    </tr>\n",
       "    <tr>\n",
       "      <th>1</th>\n",
       "      <td>credit card account</td>\n",
       "      <td>1068</td>\n",
       "    </tr>\n",
       "    <tr>\n",
       "      <th>2</th>\n",
       "      <td>credit card company</td>\n",
       "      <td>970</td>\n",
       "    </tr>\n",
       "    <tr>\n",
       "      <th>3</th>\n",
       "      <td>credit card chase</td>\n",
       "      <td>963</td>\n",
       "    </tr>\n",
       "    <tr>\n",
       "      <th>4</th>\n",
       "      <td>chase customer service</td>\n",
       "      <td>574</td>\n",
       "    </tr>\n",
       "    <tr>\n",
       "      <th>5</th>\n",
       "      <td>credit card credit</td>\n",
       "      <td>538</td>\n",
       "    </tr>\n",
       "    <tr>\n",
       "      <th>6</th>\n",
       "      <td>inquiry credit report</td>\n",
       "      <td>506</td>\n",
       "    </tr>\n",
       "    <tr>\n",
       "      <th>7</th>\n",
       "      <td>card credit card</td>\n",
       "      <td>410</td>\n",
       "    </tr>\n",
       "    <tr>\n",
       "      <th>8</th>\n",
       "      <td>account credit card</td>\n",
       "      <td>406</td>\n",
       "    </tr>\n",
       "    <tr>\n",
       "      <th>9</th>\n",
       "      <td>charge credit card</td>\n",
       "      <td>394</td>\n",
       "    </tr>\n",
       "  </tbody>\n",
       "</table>\n",
       "</div>"
      ],
      "text/plain": [
       "                  trigram  count\n",
       "0       chase credit card   2291\n",
       "1     credit card account   1068\n",
       "2     credit card company    970\n",
       "3       credit card chase    963\n",
       "4  chase customer service    574\n",
       "5      credit card credit    538\n",
       "6   inquiry credit report    506\n",
       "7        card credit card    410\n",
       "8     account credit card    406\n",
       "9      charge credit card    394"
      ]
     },
     "execution_count": 218,
     "metadata": {},
     "output_type": "execute_result"
    }
   ],
   "source": [
    "# Printing the top 10 words in the trigram frequency\n",
    "\n",
    "common_words = get_top_trigrams(df_clean['Complaint_clean'].values.astype('U'), 30)\n",
    "trigram = pd.DataFrame(common_words, columns = ['trigram' , 'count'])\n",
    "trigram.head(10)"
   ]
  },
  {
   "cell_type": "markdown",
   "metadata": {
    "id": "yUXzFji0JrF_"
   },
   "source": [
    "## The personal details of customer has been masked in the dataset with xxxx. Let's remove the masked text as this will be of no use for our analysis"
   ]
  },
  {
   "cell_type": "code",
   "execution_count": 219,
   "metadata": {
    "id": "wKda-a_IJrF_"
   },
   "outputs": [],
   "source": [
    "df_clean['Complaint_clean'] = df_clean['Complaint_clean'].str.replace('xxxx','')"
   ]
  },
  {
   "cell_type": "code",
   "execution_count": 220,
   "metadata": {
    "id": "9UIFk8fQJrF_"
   },
   "outputs": [
    {
     "data": {
      "text/html": [
       "<div>\n",
       "<style scoped>\n",
       "    .dataframe tbody tr th:only-of-type {\n",
       "        vertical-align: middle;\n",
       "    }\n",
       "\n",
       "    .dataframe tbody tr th {\n",
       "        vertical-align: top;\n",
       "    }\n",
       "\n",
       "    .dataframe thead th {\n",
       "        text-align: right;\n",
       "    }\n",
       "</style>\n",
       "<table border=\"1\" class=\"dataframe\">\n",
       "  <thead>\n",
       "    <tr style=\"text-align: right;\">\n",
       "      <th></th>\n",
       "      <th>complaints</th>\n",
       "      <th>lemmatized_Complaints</th>\n",
       "      <th>complaint_POS_removed</th>\n",
       "      <th>Complaint_clean</th>\n",
       "    </tr>\n",
       "  </thead>\n",
       "  <tbody>\n",
       "    <tr>\n",
       "      <th>0</th>\n",
       "      <td>good morning my name is xxxx xxxx and i apprec...</td>\n",
       "      <td>good morning name xxxx xxxx appreciate could h...</td>\n",
       "      <td>morning name stop chase debt verification stat...</td>\n",
       "      <td>morning name stop chase debt verification stat...</td>\n",
       "    </tr>\n",
       "    <tr>\n",
       "      <th>1</th>\n",
       "      <td>i upgraded my xxxx xxxx card in and was told b...</td>\n",
       "      <td>upgraded xxxx xxxx card told agent upgrade ann...</td>\n",
       "      <td>agent upgrade anniversary date agent informati...</td>\n",
       "      <td>agent upgrade anniversary date agent informati...</td>\n",
       "    </tr>\n",
       "    <tr>\n",
       "      <th>2</th>\n",
       "      <td>chase card was reported on however fraudulent ...</td>\n",
       "      <td>chase card reported however fraudulent applica...</td>\n",
       "      <td>chase card application identity consent servic...</td>\n",
       "      <td>chase card application identity consent servic...</td>\n",
       "    </tr>\n",
       "    <tr>\n",
       "      <th>3</th>\n",
       "      <td>on while trying to book a xxxx xxxx ticket i c...</td>\n",
       "      <td>trying book xxxx xxxx ticket came across offer...</td>\n",
       "      <td>book ticket offer ticket reward card informati...</td>\n",
       "      <td>book ticket offer ticket reward card informati...</td>\n",
       "    </tr>\n",
       "    <tr>\n",
       "      <th>4</th>\n",
       "      <td>my grand son give me check for i deposit it in...</td>\n",
       "      <td>grand son give check deposit chase account fun...</td>\n",
       "      <td>son check deposit chase account account money ...</td>\n",
       "      <td>son check deposit chase account account money ...</td>\n",
       "    </tr>\n",
       "    <tr>\n",
       "      <th>...</th>\n",
       "      <td>...</td>\n",
       "      <td>...</td>\n",
       "      <td>...</td>\n",
       "      <td>...</td>\n",
       "    </tr>\n",
       "    <tr>\n",
       "      <th>21067</th>\n",
       "      <td>after being a chase card customer for well ove...</td>\n",
       "      <td>chase card customer well decade offered multip...</td>\n",
       "      <td>chase card customer well decade solicitation c...</td>\n",
       "      <td>chase card customer well decade solicitation c...</td>\n",
       "    </tr>\n",
       "    <tr>\n",
       "      <th>21068</th>\n",
       "      <td>on wednesday xxxxxxxx i called chas my xxxx xx...</td>\n",
       "      <td>wednesday xxxxxxxx called chas xxxx xxxx visa ...</td>\n",
       "      <td>credit card provider claim purchase protection...</td>\n",
       "      <td>credit card provider claim purchase protection...</td>\n",
       "    </tr>\n",
       "    <tr>\n",
       "      <th>21069</th>\n",
       "      <td>i am not familiar with xxxx pay and did not un...</td>\n",
       "      <td>familiar xxxx pay understand great risk provid...</td>\n",
       "      <td>pay risk consumer year trust banking deal merc...</td>\n",
       "      <td>pay risk consumer year trust banking deal merc...</td>\n",
       "    </tr>\n",
       "    <tr>\n",
       "      <th>21070</th>\n",
       "      <td>i have had flawless credit for yrs ive had cha...</td>\n",
       "      <td>flawless credit yr ive chase credit card chase...</td>\n",
       "      <td>credit yr chase credit card chase freedom prob...</td>\n",
       "      <td>credit yr chase credit card chase freedom prob...</td>\n",
       "    </tr>\n",
       "    <tr>\n",
       "      <th>21071</th>\n",
       "      <td>roughly years ago i closed out my accounts wit...</td>\n",
       "      <td>roughly year ago closed account jp morgan chas...</td>\n",
       "      <td>year account order line credit pay account pay...</td>\n",
       "      <td>year account order line credit pay account pay...</td>\n",
       "    </tr>\n",
       "  </tbody>\n",
       "</table>\n",
       "<p>21072 rows × 4 columns</p>\n",
       "</div>"
      ],
      "text/plain": [
       "                                              complaints  \\\n",
       "0      good morning my name is xxxx xxxx and i apprec...   \n",
       "1      i upgraded my xxxx xxxx card in and was told b...   \n",
       "2      chase card was reported on however fraudulent ...   \n",
       "3      on while trying to book a xxxx xxxx ticket i c...   \n",
       "4      my grand son give me check for i deposit it in...   \n",
       "...                                                  ...   \n",
       "21067  after being a chase card customer for well ove...   \n",
       "21068  on wednesday xxxxxxxx i called chas my xxxx xx...   \n",
       "21069  i am not familiar with xxxx pay and did not un...   \n",
       "21070  i have had flawless credit for yrs ive had cha...   \n",
       "21071  roughly years ago i closed out my accounts wit...   \n",
       "\n",
       "                                   lemmatized_Complaints  \\\n",
       "0      good morning name xxxx xxxx appreciate could h...   \n",
       "1      upgraded xxxx xxxx card told agent upgrade ann...   \n",
       "2      chase card reported however fraudulent applica...   \n",
       "3      trying book xxxx xxxx ticket came across offer...   \n",
       "4      grand son give check deposit chase account fun...   \n",
       "...                                                  ...   \n",
       "21067  chase card customer well decade offered multip...   \n",
       "21068  wednesday xxxxxxxx called chas xxxx xxxx visa ...   \n",
       "21069  familiar xxxx pay understand great risk provid...   \n",
       "21070  flawless credit yr ive chase credit card chase...   \n",
       "21071  roughly year ago closed account jp morgan chas...   \n",
       "\n",
       "                                   complaint_POS_removed  \\\n",
       "0      morning name stop chase debt verification stat...   \n",
       "1      agent upgrade anniversary date agent informati...   \n",
       "2      chase card application identity consent servic...   \n",
       "3      book ticket offer ticket reward card informati...   \n",
       "4      son check deposit chase account account money ...   \n",
       "...                                                  ...   \n",
       "21067  chase card customer well decade solicitation c...   \n",
       "21068  credit card provider claim purchase protection...   \n",
       "21069  pay risk consumer year trust banking deal merc...   \n",
       "21070  credit yr chase credit card chase freedom prob...   \n",
       "21071  year account order line credit pay account pay...   \n",
       "\n",
       "                                         Complaint_clean  \n",
       "0      morning name stop chase debt verification stat...  \n",
       "1      agent upgrade anniversary date agent informati...  \n",
       "2      chase card application identity consent servic...  \n",
       "3      book ticket offer ticket reward card informati...  \n",
       "4      son check deposit chase account account money ...  \n",
       "...                                                  ...  \n",
       "21067  chase card customer well decade solicitation c...  \n",
       "21068  credit card provider claim purchase protection...  \n",
       "21069  pay risk consumer year trust banking deal merc...  \n",
       "21070  credit yr chase credit card chase freedom prob...  \n",
       "21071  year account order line credit pay account pay...  \n",
       "\n",
       "[21072 rows x 4 columns]"
      ]
     },
     "execution_count": 220,
     "metadata": {},
     "output_type": "execute_result"
    }
   ],
   "source": [
    "# Printing dataframe after all masked texts has been removed\n",
    "\n",
    "df_clean"
   ]
  },
  {
   "cell_type": "markdown",
   "metadata": {
    "id": "k-I0k0QtJrGA"
   },
   "source": [
    "## Feature Extraction\n",
    "Convert the raw texts to a matrix of TF-IDF features\n",
    "\n",
    "**max_df** is used for removing terms that appear too frequently, also known as \"corpus-specific stop words\"\n",
    "max_df = 0.95 means \"ignore terms that appear in more than 95% of the complaints\"\n",
    "\n",
    "**min_df** is used for removing terms that appear too infrequently\n",
    "min_df = 2 means \"ignore terms that appear in less than 2 complaints\""
   ]
  },
  {
   "cell_type": "code",
   "execution_count": 221,
   "metadata": {
    "id": "Y8fGwaCPJrGA"
   },
   "outputs": [],
   "source": [
    "# Writing code to initialise the TfidfVectorizer\n",
    "\n",
    "tfidf = TfidfVectorizer(max_df=0.95, min_df=2, stop_words='english')"
   ]
  },
  {
   "cell_type": "markdown",
   "metadata": {
    "id": "yYzD85nTJrGA"
   },
   "source": [
    "#### Create a document term matrix using fit_transform\n",
    "\n",
    "The contents of a document term matrix are tuples of (complaint_id,token_id) tf-idf score:\n",
    "The tuples that are not there have a tf-idf score of 0"
   ]
  },
  {
   "cell_type": "code",
   "execution_count": 222,
   "metadata": {
    "id": "ffzdDpp_JrGB"
   },
   "outputs": [],
   "source": [
    "# Writting code to create the Document Term Matrix by transforming the complaints column present in df_clean.\n",
    "\n",
    "dtm = tfidf.fit_transform(df_clean['Complaint_clean'])"
   ]
  },
  {
   "cell_type": "markdown",
   "metadata": {
    "id": "7Q9lwvNEJrGB"
   },
   "source": [
    "## Topic Modelling using NMF\n",
    "\n",
    "Non-Negative Matrix Factorization (NMF) is an unsupervised technique so there are no labeling of topics that the model will be trained on. The way it works is that, NMF decomposes (or factorizes) high-dimensional vectors into a lower-dimensional representation. These lower-dimensional vectors are non-negative which also means their coefficients are non-negative.\n",
    "\n",
    "In this task you have to perform the following:\n",
    "\n",
    "* Find the best number of clusters \n",
    "* Apply the best number to create word clusters\n",
    "* Inspect & validate the correction of each cluster wrt the complaints \n",
    "* Correct the labels if needed \n",
    "* Map the clusters to topics/cluster names"
   ]
  },
  {
   "cell_type": "code",
   "execution_count": 223,
   "metadata": {
    "id": "amLT4omWJrGB"
   },
   "outputs": [],
   "source": [
    "# Importing NMF from sklearn\n",
    "\n",
    "from sklearn.decomposition import NMF"
   ]
  },
  {
   "cell_type": "markdown",
   "metadata": {
    "id": "0wYR1xUTJrGD"
   },
   "source": [
    "## Manual Topic Modeling\n",
    "You need to do take the trial & error approach to find the best num of topics for your NMF model.\n",
    "\n",
    "The only parameter that is required is the number of components i.e. the number of topics we want. This is the most crucial step in the whole topic modeling process and will greatly affect how good your final topics are."
   ]
  },
  {
   "cell_type": "code",
   "execution_count": 224,
   "metadata": {
    "id": "sgd2A6bhJrGD"
   },
   "outputs": [
    {
     "name": "stdout",
     "output_type": "stream",
     "text": [
      "6400\n"
     ]
    }
   ],
   "source": [
    "#Loading nmf_model with the n_components i.e 5\n",
    "\n",
    "num_topics = 5 \n",
    "\n",
    "# Keeping the random_state =40\n",
    "\n",
    "nmf_model = NMF(n_components=num_topics, random_state=40) \n",
    "\n",
    "nmf_model.fit(dtm)\n",
    "\n",
    "print(len(tfidf.get_feature_names()))"
   ]
  },
  {
   "cell_type": "code",
   "execution_count": 225,
   "metadata": {},
   "outputs": [],
   "source": [
    "# Creating Document-topic matrix\n",
    "\n",
    "W1 = nmf_model.fit_transform(dtm)\n",
    "\n",
    "# Creating Topic-term matrix\n",
    "\n",
    "H1 = nmf_model.components_"
   ]
  },
  {
   "cell_type": "code",
   "execution_count": 226,
   "metadata": {
    "id": "16kRfat5JrGE"
   },
   "outputs": [
    {
     "data": {
      "text/html": [
       "<div>\n",
       "<style scoped>\n",
       "    .dataframe tbody tr th:only-of-type {\n",
       "        vertical-align: middle;\n",
       "    }\n",
       "\n",
       "    .dataframe tbody tr th {\n",
       "        vertical-align: top;\n",
       "    }\n",
       "\n",
       "    .dataframe thead th {\n",
       "        text-align: right;\n",
       "    }\n",
       "</style>\n",
       "<table border=\"1\" class=\"dataframe\">\n",
       "  <thead>\n",
       "    <tr style=\"text-align: right;\">\n",
       "      <th></th>\n",
       "      <th>Word 1</th>\n",
       "      <th>Word 2</th>\n",
       "      <th>Word 3</th>\n",
       "      <th>Word 4</th>\n",
       "      <th>Word 5</th>\n",
       "      <th>Word 6</th>\n",
       "      <th>Word 7</th>\n",
       "      <th>Word 8</th>\n",
       "      <th>Word 9</th>\n",
       "      <th>Word 10</th>\n",
       "      <th>Word 11</th>\n",
       "      <th>Word 12</th>\n",
       "      <th>Word 13</th>\n",
       "      <th>Word 14</th>\n",
       "      <th>Word 15</th>\n",
       "    </tr>\n",
       "  </thead>\n",
       "  <tbody>\n",
       "    <tr>\n",
       "      <th>Topic 1</th>\n",
       "      <td>account</td>\n",
       "      <td>check</td>\n",
       "      <td>money</td>\n",
       "      <td>chase</td>\n",
       "      <td>bank</td>\n",
       "      <td>fund</td>\n",
       "      <td>deposit</td>\n",
       "      <td>day</td>\n",
       "      <td>branch</td>\n",
       "      <td>transaction</td>\n",
       "      <td>checking</td>\n",
       "      <td>number</td>\n",
       "      <td>business</td>\n",
       "      <td>claim</td>\n",
       "      <td>fee</td>\n",
       "    </tr>\n",
       "    <tr>\n",
       "      <th>Topic 2</th>\n",
       "      <td>card</td>\n",
       "      <td>charge</td>\n",
       "      <td>chase</td>\n",
       "      <td>credit</td>\n",
       "      <td>dispute</td>\n",
       "      <td>purchase</td>\n",
       "      <td>transaction</td>\n",
       "      <td>fee</td>\n",
       "      <td>service</td>\n",
       "      <td>merchant</td>\n",
       "      <td>fraud</td>\n",
       "      <td>time</td>\n",
       "      <td>balance</td>\n",
       "      <td>company</td>\n",
       "      <td>customer</td>\n",
       "    </tr>\n",
       "    <tr>\n",
       "      <th>Topic 3</th>\n",
       "      <td>payment</td>\n",
       "      <td>balance</td>\n",
       "      <td>fee</td>\n",
       "      <td>month</td>\n",
       "      <td>statement</td>\n",
       "      <td>day</td>\n",
       "      <td>chase</td>\n",
       "      <td>date</td>\n",
       "      <td>time</td>\n",
       "      <td>pay</td>\n",
       "      <td>auto</td>\n",
       "      <td>credit</td>\n",
       "      <td>error</td>\n",
       "      <td>year</td>\n",
       "      <td>mortgage</td>\n",
       "    </tr>\n",
       "    <tr>\n",
       "      <th>Topic 4</th>\n",
       "      <td>credit</td>\n",
       "      <td>report</td>\n",
       "      <td>inquiry</td>\n",
       "      <td>card</td>\n",
       "      <td>account</td>\n",
       "      <td>score</td>\n",
       "      <td>debt</td>\n",
       "      <td>company</td>\n",
       "      <td>bureau</td>\n",
       "      <td>reporting</td>\n",
       "      <td>information</td>\n",
       "      <td>identity</td>\n",
       "      <td>application</td>\n",
       "      <td>limit</td>\n",
       "      <td>theft</td>\n",
       "    </tr>\n",
       "    <tr>\n",
       "      <th>Topic 5</th>\n",
       "      <td>loan</td>\n",
       "      <td>mortgage</td>\n",
       "      <td>chase</td>\n",
       "      <td>modification</td>\n",
       "      <td>home</td>\n",
       "      <td>property</td>\n",
       "      <td>year</td>\n",
       "      <td>letter</td>\n",
       "      <td>document</td>\n",
       "      <td>rate</td>\n",
       "      <td>time</td>\n",
       "      <td>foreclosure</td>\n",
       "      <td>sale</td>\n",
       "      <td>information</td>\n",
       "      <td>debt</td>\n",
       "    </tr>\n",
       "  </tbody>\n",
       "</table>\n",
       "</div>"
      ],
      "text/plain": [
       "          Word 1    Word 2   Word 3        Word 4     Word 5    Word 6  \\\n",
       "Topic 1  account     check    money         chase       bank      fund   \n",
       "Topic 2     card    charge    chase        credit    dispute  purchase   \n",
       "Topic 3  payment   balance      fee         month  statement       day   \n",
       "Topic 4   credit    report  inquiry          card    account     score   \n",
       "Topic 5     loan  mortgage    chase  modification       home  property   \n",
       "\n",
       "              Word 7   Word 8    Word 9      Word 10      Word 11  \\\n",
       "Topic 1      deposit      day    branch  transaction     checking   \n",
       "Topic 2  transaction      fee   service     merchant        fraud   \n",
       "Topic 3        chase     date      time          pay         auto   \n",
       "Topic 4         debt  company    bureau    reporting  information   \n",
       "Topic 5         year   letter  document         rate         time   \n",
       "\n",
       "             Word 12      Word 13      Word 14   Word 15  \n",
       "Topic 1       number     business        claim       fee  \n",
       "Topic 2         time      balance      company  customer  \n",
       "Topic 3       credit        error         year  mortgage  \n",
       "Topic 4     identity  application        limit     theft  \n",
       "Topic 5  foreclosure         sale  information      debt  "
      ]
     },
     "execution_count": 226,
     "metadata": {},
     "output_type": "execute_result"
    }
   ],
   "source": [
    "# Printing the Top15 words for each of the topics\n",
    "\n",
    "words = np.array(tfidf.get_feature_names())\n",
    "topic_words = pd.DataFrame(np.zeros((num_topics, 15)), index=[f'Topic {i + 1}' for i in range(num_topics)],\n",
    "                           columns=[f'Word {i + 1}' for i in range(15)]).astype(str)\n",
    "for i in range(num_topics):\n",
    "    ix = H1[i].argsort()[::-1][:15]\n",
    "    topic_words.iloc[i] = words[ix]\n",
    "\n",
    "topic_words"
   ]
  },
  {
   "cell_type": "code",
   "execution_count": 227,
   "metadata": {},
   "outputs": [
    {
     "data": {
      "text/html": [
       "<div>\n",
       "<style scoped>\n",
       "    .dataframe tbody tr th:only-of-type {\n",
       "        vertical-align: middle;\n",
       "    }\n",
       "\n",
       "    .dataframe tbody tr th {\n",
       "        vertical-align: top;\n",
       "    }\n",
       "\n",
       "    .dataframe thead th {\n",
       "        text-align: right;\n",
       "    }\n",
       "</style>\n",
       "<table border=\"1\" class=\"dataframe\">\n",
       "  <thead>\n",
       "    <tr style=\"text-align: right;\">\n",
       "      <th></th>\n",
       "      <th>aaaratings</th>\n",
       "      <th>aarp</th>\n",
       "      <th>aba</th>\n",
       "      <th>abatement</th>\n",
       "      <th>abbreviation</th>\n",
       "      <th>aberrant</th>\n",
       "      <th>abhorrent</th>\n",
       "      <th>abide</th>\n",
       "      <th>ability</th>\n",
       "      <th>absence</th>\n",
       "      <th>...</th>\n",
       "      <th>yesterday</th>\n",
       "      <th>yhe</th>\n",
       "      <th>yield</th>\n",
       "      <th>yoga</th>\n",
       "      <th>youth</th>\n",
       "      <th>yr</th>\n",
       "      <th>zilch</th>\n",
       "      <th>zip</th>\n",
       "      <th>zombie</th>\n",
       "      <th>zone</th>\n",
       "    </tr>\n",
       "  </thead>\n",
       "  <tbody>\n",
       "    <tr>\n",
       "      <th>Topic 1</th>\n",
       "      <td>0.000000</td>\n",
       "      <td>0.000000</td>\n",
       "      <td>0.001142</td>\n",
       "      <td>0.000000</td>\n",
       "      <td>0.000000</td>\n",
       "      <td>0.000000</td>\n",
       "      <td>0.000000</td>\n",
       "      <td>0.000916</td>\n",
       "      <td>0.029380</td>\n",
       "      <td>0.001842</td>\n",
       "      <td>...</td>\n",
       "      <td>0.061125</td>\n",
       "      <td>0.000303</td>\n",
       "      <td>0.003507</td>\n",
       "      <td>0.000000</td>\n",
       "      <td>0.000786</td>\n",
       "      <td>0.000000</td>\n",
       "      <td>0.000847</td>\n",
       "      <td>0.000000</td>\n",
       "      <td>0.000000</td>\n",
       "      <td>0.000753</td>\n",
       "    </tr>\n",
       "    <tr>\n",
       "      <th>Topic 2</th>\n",
       "      <td>0.000000</td>\n",
       "      <td>0.015620</td>\n",
       "      <td>0.000097</td>\n",
       "      <td>0.000000</td>\n",
       "      <td>0.000000</td>\n",
       "      <td>0.001783</td>\n",
       "      <td>0.002381</td>\n",
       "      <td>0.004588</td>\n",
       "      <td>0.013577</td>\n",
       "      <td>0.000000</td>\n",
       "      <td>...</td>\n",
       "      <td>0.031559</td>\n",
       "      <td>0.000804</td>\n",
       "      <td>0.000645</td>\n",
       "      <td>0.000713</td>\n",
       "      <td>0.000000</td>\n",
       "      <td>0.001888</td>\n",
       "      <td>0.000000</td>\n",
       "      <td>0.003919</td>\n",
       "      <td>0.000000</td>\n",
       "      <td>0.001753</td>\n",
       "    </tr>\n",
       "    <tr>\n",
       "      <th>Topic 3</th>\n",
       "      <td>0.000000</td>\n",
       "      <td>0.000357</td>\n",
       "      <td>0.000000</td>\n",
       "      <td>0.000672</td>\n",
       "      <td>0.000000</td>\n",
       "      <td>0.000000</td>\n",
       "      <td>0.000000</td>\n",
       "      <td>0.000239</td>\n",
       "      <td>0.022084</td>\n",
       "      <td>0.003494</td>\n",
       "      <td>...</td>\n",
       "      <td>0.010167</td>\n",
       "      <td>0.000000</td>\n",
       "      <td>0.000000</td>\n",
       "      <td>0.000013</td>\n",
       "      <td>0.000000</td>\n",
       "      <td>0.005640</td>\n",
       "      <td>0.000253</td>\n",
       "      <td>0.004747</td>\n",
       "      <td>0.000000</td>\n",
       "      <td>0.003469</td>\n",
       "    </tr>\n",
       "    <tr>\n",
       "      <th>Topic 4</th>\n",
       "      <td>0.000000</td>\n",
       "      <td>0.000576</td>\n",
       "      <td>0.000000</td>\n",
       "      <td>0.000000</td>\n",
       "      <td>0.000000</td>\n",
       "      <td>0.000000</td>\n",
       "      <td>0.000000</td>\n",
       "      <td>0.000000</td>\n",
       "      <td>0.031422</td>\n",
       "      <td>0.002989</td>\n",
       "      <td>...</td>\n",
       "      <td>0.000000</td>\n",
       "      <td>0.000000</td>\n",
       "      <td>0.000000</td>\n",
       "      <td>0.000000</td>\n",
       "      <td>0.000000</td>\n",
       "      <td>0.000336</td>\n",
       "      <td>0.000000</td>\n",
       "      <td>0.002803</td>\n",
       "      <td>0.001513</td>\n",
       "      <td>0.000000</td>\n",
       "    </tr>\n",
       "    <tr>\n",
       "      <th>Topic 5</th>\n",
       "      <td>0.000924</td>\n",
       "      <td>0.000000</td>\n",
       "      <td>0.000000</td>\n",
       "      <td>0.001250</td>\n",
       "      <td>0.000697</td>\n",
       "      <td>0.000000</td>\n",
       "      <td>0.000000</td>\n",
       "      <td>0.002718</td>\n",
       "      <td>0.035742</td>\n",
       "      <td>0.001152</td>\n",
       "      <td>...</td>\n",
       "      <td>0.015752</td>\n",
       "      <td>0.000119</td>\n",
       "      <td>0.001610</td>\n",
       "      <td>0.000036</td>\n",
       "      <td>0.000037</td>\n",
       "      <td>0.005337</td>\n",
       "      <td>0.000102</td>\n",
       "      <td>0.001291</td>\n",
       "      <td>0.000831</td>\n",
       "      <td>0.003235</td>\n",
       "    </tr>\n",
       "  </tbody>\n",
       "</table>\n",
       "<p>5 rows × 6400 columns</p>\n",
       "</div>"
      ],
      "text/plain": [
       "         aaaratings      aarp       aba  abatement  abbreviation  aberrant  \\\n",
       "Topic 1    0.000000  0.000000  0.001142   0.000000      0.000000  0.000000   \n",
       "Topic 2    0.000000  0.015620  0.000097   0.000000      0.000000  0.001783   \n",
       "Topic 3    0.000000  0.000357  0.000000   0.000672      0.000000  0.000000   \n",
       "Topic 4    0.000000  0.000576  0.000000   0.000000      0.000000  0.000000   \n",
       "Topic 5    0.000924  0.000000  0.000000   0.001250      0.000697  0.000000   \n",
       "\n",
       "         abhorrent     abide   ability   absence  ...  yesterday       yhe  \\\n",
       "Topic 1   0.000000  0.000916  0.029380  0.001842  ...   0.061125  0.000303   \n",
       "Topic 2   0.002381  0.004588  0.013577  0.000000  ...   0.031559  0.000804   \n",
       "Topic 3   0.000000  0.000239  0.022084  0.003494  ...   0.010167  0.000000   \n",
       "Topic 4   0.000000  0.000000  0.031422  0.002989  ...   0.000000  0.000000   \n",
       "Topic 5   0.000000  0.002718  0.035742  0.001152  ...   0.015752  0.000119   \n",
       "\n",
       "            yield      yoga     youth        yr     zilch       zip    zombie  \\\n",
       "Topic 1  0.003507  0.000000  0.000786  0.000000  0.000847  0.000000  0.000000   \n",
       "Topic 2  0.000645  0.000713  0.000000  0.001888  0.000000  0.003919  0.000000   \n",
       "Topic 3  0.000000  0.000013  0.000000  0.005640  0.000253  0.004747  0.000000   \n",
       "Topic 4  0.000000  0.000000  0.000000  0.000336  0.000000  0.002803  0.001513   \n",
       "Topic 5  0.001610  0.000036  0.000037  0.005337  0.000102  0.001291  0.000831   \n",
       "\n",
       "             zone  \n",
       "Topic 1  0.000753  \n",
       "Topic 2  0.001753  \n",
       "Topic 3  0.003469  \n",
       "Topic 4  0.000000  \n",
       "Topic 5  0.003235  \n",
       "\n",
       "[5 rows x 6400 columns]"
      ]
     },
     "execution_count": 227,
     "metadata": {},
     "output_type": "execute_result"
    }
   ],
   "source": [
    "# Assigning different index(Topic) to Topic-term matrix\n",
    "\n",
    "H1 = pd.DataFrame(H1, index=['Topic 1', 'Topic 2', 'Topic 3', 'Topic 4', 'Topic 5'], columns=tfidf.get_feature_names())\n",
    "H1"
   ]
  },
  {
   "cell_type": "code",
   "execution_count": 228,
   "metadata": {
    "id": "0OIT7LmFJrGF"
   },
   "outputs": [
    {
     "data": {
      "text/html": [
       "<div>\n",
       "<style scoped>\n",
       "    .dataframe tbody tr th:only-of-type {\n",
       "        vertical-align: middle;\n",
       "    }\n",
       "\n",
       "    .dataframe tbody tr th {\n",
       "        vertical-align: top;\n",
       "    }\n",
       "\n",
       "    .dataframe thead th {\n",
       "        text-align: right;\n",
       "    }\n",
       "</style>\n",
       "<table border=\"1\" class=\"dataframe\">\n",
       "  <thead>\n",
       "    <tr style=\"text-align: right;\">\n",
       "      <th></th>\n",
       "      <th>Topic 1</th>\n",
       "      <th>Topic 2</th>\n",
       "      <th>Topic 3</th>\n",
       "      <th>Topic 4</th>\n",
       "      <th>Topic 5</th>\n",
       "      <th>Dominant_Topic</th>\n",
       "    </tr>\n",
       "  </thead>\n",
       "  <tbody>\n",
       "    <tr>\n",
       "      <th>0</th>\n",
       "      <td>0.020872</td>\n",
       "      <td>0.004850</td>\n",
       "      <td>0.008684</td>\n",
       "      <td>0.015800</td>\n",
       "      <td>0.027183</td>\n",
       "      <td>4</td>\n",
       "    </tr>\n",
       "    <tr>\n",
       "      <th>1</th>\n",
       "      <td>0.010449</td>\n",
       "      <td>0.001468</td>\n",
       "      <td>0.000934</td>\n",
       "      <td>0.003215</td>\n",
       "      <td>0.004212</td>\n",
       "      <td>0</td>\n",
       "    </tr>\n",
       "    <tr>\n",
       "      <th>2</th>\n",
       "      <td>0.000025</td>\n",
       "      <td>0.026918</td>\n",
       "      <td>0.000000</td>\n",
       "      <td>0.031247</td>\n",
       "      <td>0.003522</td>\n",
       "      <td>3</td>\n",
       "    </tr>\n",
       "    <tr>\n",
       "      <th>3</th>\n",
       "      <td>0.015989</td>\n",
       "      <td>0.021798</td>\n",
       "      <td>0.000086</td>\n",
       "      <td>0.048445</td>\n",
       "      <td>0.019407</td>\n",
       "      <td>3</td>\n",
       "    </tr>\n",
       "    <tr>\n",
       "      <th>4</th>\n",
       "      <td>0.061069</td>\n",
       "      <td>0.000849</td>\n",
       "      <td>0.000000</td>\n",
       "      <td>0.000000</td>\n",
       "      <td>0.006378</td>\n",
       "      <td>0</td>\n",
       "    </tr>\n",
       "  </tbody>\n",
       "</table>\n",
       "</div>"
      ],
      "text/plain": [
       "    Topic 1   Topic 2   Topic 3   Topic 4   Topic 5  Dominant_Topic\n",
       "0  0.020872  0.004850  0.008684  0.015800  0.027183               4\n",
       "1  0.010449  0.001468  0.000934  0.003215  0.004212               0\n",
       "2  0.000025  0.026918  0.000000  0.031247  0.003522               3\n",
       "3  0.015989  0.021798  0.000086  0.048445  0.019407               3\n",
       "4  0.061069  0.000849  0.000000  0.000000  0.006378               0"
      ]
     },
     "execution_count": 228,
     "metadata": {},
     "output_type": "execute_result"
    }
   ],
   "source": [
    "# Creating the best topic for each complaint in terms of integer value 0,1,2,3 & 4\n",
    "\n",
    "document_topic = pd.DataFrame(W1, columns = [f'Topic {i + 1}' for i in range(num_topics)])\n",
    "document_topic[\"Dominant_Topic\"] = document_topic.apply(lambda x : np.argmax(x), axis = 1)\n",
    "document_topic.head()\n"
   ]
  },
  {
   "cell_type": "code",
   "execution_count": 229,
   "metadata": {
    "id": "peyYv-ORJrGF"
   },
   "outputs": [],
   "source": [
    "#Assiging the best topic to each of the cmplaints in Topic Column\n",
    "\n",
    "df_clean['Topic'] = document_topic[\"Dominant_Topic\"] "
   ]
  },
  {
   "cell_type": "code",
   "execution_count": 230,
   "metadata": {
    "id": "fLh_Gf3nJrGF"
   },
   "outputs": [
    {
     "data": {
      "text/html": [
       "<div>\n",
       "<style scoped>\n",
       "    .dataframe tbody tr th:only-of-type {\n",
       "        vertical-align: middle;\n",
       "    }\n",
       "\n",
       "    .dataframe tbody tr th {\n",
       "        vertical-align: top;\n",
       "    }\n",
       "\n",
       "    .dataframe thead th {\n",
       "        text-align: right;\n",
       "    }\n",
       "</style>\n",
       "<table border=\"1\" class=\"dataframe\">\n",
       "  <thead>\n",
       "    <tr style=\"text-align: right;\">\n",
       "      <th></th>\n",
       "      <th>complaints</th>\n",
       "      <th>lemmatized_Complaints</th>\n",
       "      <th>complaint_POS_removed</th>\n",
       "      <th>Complaint_clean</th>\n",
       "      <th>Topic</th>\n",
       "    </tr>\n",
       "  </thead>\n",
       "  <tbody>\n",
       "    <tr>\n",
       "      <th>0</th>\n",
       "      <td>good morning my name is xxxx xxxx and i apprec...</td>\n",
       "      <td>good morning name xxxx xxxx appreciate could h...</td>\n",
       "      <td>morning name stop chase debt verification stat...</td>\n",
       "      <td>morning name stop chase debt verification stat...</td>\n",
       "      <td>4</td>\n",
       "    </tr>\n",
       "    <tr>\n",
       "      <th>1</th>\n",
       "      <td>i upgraded my xxxx xxxx card in and was told b...</td>\n",
       "      <td>upgraded xxxx xxxx card told agent upgrade ann...</td>\n",
       "      <td>agent upgrade anniversary date agent informati...</td>\n",
       "      <td>agent upgrade anniversary date agent informati...</td>\n",
       "      <td>0</td>\n",
       "    </tr>\n",
       "    <tr>\n",
       "      <th>2</th>\n",
       "      <td>chase card was reported on however fraudulent ...</td>\n",
       "      <td>chase card reported however fraudulent applica...</td>\n",
       "      <td>chase card application identity consent servic...</td>\n",
       "      <td>chase card application identity consent servic...</td>\n",
       "      <td>3</td>\n",
       "    </tr>\n",
       "    <tr>\n",
       "      <th>3</th>\n",
       "      <td>on while trying to book a xxxx xxxx ticket i c...</td>\n",
       "      <td>trying book xxxx xxxx ticket came across offer...</td>\n",
       "      <td>book ticket offer ticket reward card informati...</td>\n",
       "      <td>book ticket offer ticket reward card informati...</td>\n",
       "      <td>3</td>\n",
       "    </tr>\n",
       "    <tr>\n",
       "      <th>4</th>\n",
       "      <td>my grand son give me check for i deposit it in...</td>\n",
       "      <td>grand son give check deposit chase account fun...</td>\n",
       "      <td>son check deposit chase account account money ...</td>\n",
       "      <td>son check deposit chase account account money ...</td>\n",
       "      <td>0</td>\n",
       "    </tr>\n",
       "  </tbody>\n",
       "</table>\n",
       "</div>"
      ],
      "text/plain": [
       "                                          complaints  \\\n",
       "0  good morning my name is xxxx xxxx and i apprec...   \n",
       "1  i upgraded my xxxx xxxx card in and was told b...   \n",
       "2  chase card was reported on however fraudulent ...   \n",
       "3  on while trying to book a xxxx xxxx ticket i c...   \n",
       "4  my grand son give me check for i deposit it in...   \n",
       "\n",
       "                               lemmatized_Complaints  \\\n",
       "0  good morning name xxxx xxxx appreciate could h...   \n",
       "1  upgraded xxxx xxxx card told agent upgrade ann...   \n",
       "2  chase card reported however fraudulent applica...   \n",
       "3  trying book xxxx xxxx ticket came across offer...   \n",
       "4  grand son give check deposit chase account fun...   \n",
       "\n",
       "                               complaint_POS_removed  \\\n",
       "0  morning name stop chase debt verification stat...   \n",
       "1  agent upgrade anniversary date agent informati...   \n",
       "2  chase card application identity consent servic...   \n",
       "3  book ticket offer ticket reward card informati...   \n",
       "4  son check deposit chase account account money ...   \n",
       "\n",
       "                                     Complaint_clean  Topic  \n",
       "0  morning name stop chase debt verification stat...      4  \n",
       "1  agent upgrade anniversary date agent informati...      0  \n",
       "2  chase card application identity consent servic...      3  \n",
       "3  book ticket offer ticket reward card informati...      3  \n",
       "4  son check deposit chase account account money ...      0  "
      ]
     },
     "execution_count": 230,
     "metadata": {},
     "output_type": "execute_result"
    }
   ],
   "source": [
    "df_clean.head()"
   ]
  },
  {
   "cell_type": "code",
   "execution_count": 231,
   "metadata": {},
   "outputs": [
    {
     "data": {
      "text/plain": [
       "(21072, 5)"
      ]
     },
     "execution_count": 231,
     "metadata": {},
     "output_type": "execute_result"
    }
   ],
   "source": [
    "# Printing the shape of dataframe\n",
    "\n",
    "df_clean.shape"
   ]
  },
  {
   "cell_type": "code",
   "execution_count": 232,
   "metadata": {
    "id": "aQKpufSPJrGG"
   },
   "outputs": [
    {
     "data": {
      "text/html": [
       "<div>\n",
       "<style scoped>\n",
       "    .dataframe tbody tr th:only-of-type {\n",
       "        vertical-align: middle;\n",
       "    }\n",
       "\n",
       "    .dataframe tbody tr th {\n",
       "        vertical-align: top;\n",
       "    }\n",
       "\n",
       "    .dataframe thead th {\n",
       "        text-align: right;\n",
       "    }\n",
       "</style>\n",
       "<table border=\"1\" class=\"dataframe\">\n",
       "  <thead>\n",
       "    <tr style=\"text-align: right;\">\n",
       "      <th></th>\n",
       "      <th>complaints</th>\n",
       "      <th>lemmatized_Complaints</th>\n",
       "      <th>complaint_POS_removed</th>\n",
       "      <th>Complaint_clean</th>\n",
       "      <th>Topic</th>\n",
       "    </tr>\n",
       "  </thead>\n",
       "  <tbody>\n",
       "    <tr>\n",
       "      <th>12</th>\n",
       "      <td>i opened an account with chase bank on xxxx an...</td>\n",
       "      <td>opened account chase bank xxxx used code xxxx ...</td>\n",
       "      <td>account code term account deposit bonus day de...</td>\n",
       "      <td>account code term account deposit bonus day de...</td>\n",
       "      <td>0</td>\n",
       "    </tr>\n",
       "    <tr>\n",
       "      <th>1</th>\n",
       "      <td>i upgraded my xxxx xxxx card in and was told b...</td>\n",
       "      <td>upgraded xxxx xxxx card told agent upgrade ann...</td>\n",
       "      <td>agent upgrade anniversary date agent informati...</td>\n",
       "      <td>agent upgrade anniversary date agent informati...</td>\n",
       "      <td>0</td>\n",
       "    </tr>\n",
       "    <tr>\n",
       "      <th>4</th>\n",
       "      <td>my grand son give me check for i deposit it in...</td>\n",
       "      <td>grand son give check deposit chase account fun...</td>\n",
       "      <td>son check deposit chase account account money ...</td>\n",
       "      <td>son check deposit chase account account money ...</td>\n",
       "      <td>0</td>\n",
       "    </tr>\n",
       "    <tr>\n",
       "      <th>6</th>\n",
       "      <td>with out notice jp morgan chase restricted my ...</td>\n",
       "      <td>notice jp morgan chase restricted account debi...</td>\n",
       "      <td>account debit card branch customer service rep...</td>\n",
       "      <td>account debit card branch customer service rep...</td>\n",
       "      <td>0</td>\n",
       "    </tr>\n",
       "    <tr>\n",
       "      <th>10</th>\n",
       "      <td>mishandling of this account by chase auto and ...</td>\n",
       "      <td>mishandling account chase auto xxxx</td>\n",
       "      <td>account chase auto</td>\n",
       "      <td>account chase auto</td>\n",
       "      <td>0</td>\n",
       "    </tr>\n",
       "    <tr>\n",
       "      <th>21</th>\n",
       "      <td>i am a senior citizen that has been scammed by...</td>\n",
       "      <td>senior citizen scammed several company xxxx xx...</td>\n",
       "      <td>citizen company time share company refund cred...</td>\n",
       "      <td>citizen company time share company refund cred...</td>\n",
       "      <td>1</td>\n",
       "    </tr>\n",
       "    <tr>\n",
       "      <th>19</th>\n",
       "      <td>i made a purchase with xxxx xxxx xxxx on in th...</td>\n",
       "      <td>made purchase xxxx xxxx xxxx amount charged tw...</td>\n",
       "      <td>purchase amount transaction dispute case charg...</td>\n",
       "      <td>purchase amount transaction dispute case charg...</td>\n",
       "      <td>1</td>\n",
       "    </tr>\n",
       "    <tr>\n",
       "      <th>8</th>\n",
       "      <td>on xxxx i made a payment to an online retailer...</td>\n",
       "      <td>xxxx made payment online retailer using chase ...</td>\n",
       "      <td>payment retailer chase pay website scam websit...</td>\n",
       "      <td>payment retailer chase pay website scam websit...</td>\n",
       "      <td>1</td>\n",
       "    </tr>\n",
       "    <tr>\n",
       "      <th>16</th>\n",
       "      <td>xxxx xxxx a sofa love seat table and chairs an...</td>\n",
       "      <td>xxxx xxxx sofa love seat table chair never del...</td>\n",
       "      <td>love seat table chair debit card bank claim fu...</td>\n",
       "      <td>love seat table chair debit card bank claim fu...</td>\n",
       "      <td>1</td>\n",
       "    </tr>\n",
       "    <tr>\n",
       "      <th>14</th>\n",
       "      <td>my chase amazon card was declined for a cateri...</td>\n",
       "      <td>chase amazon card declined catering order plac...</td>\n",
       "      <td>amazon card catering order brother funeral amo...</td>\n",
       "      <td>amazon card catering order brother funeral amo...</td>\n",
       "      <td>1</td>\n",
       "    </tr>\n",
       "    <tr>\n",
       "      <th>33</th>\n",
       "      <td>i recently called to ask chase bank why they r...</td>\n",
       "      <td>recently called ask chase bank reported credit...</td>\n",
       "      <td>credit day payment info bill balance amount da...</td>\n",
       "      <td>credit day payment info bill balance amount da...</td>\n",
       "      <td>2</td>\n",
       "    </tr>\n",
       "    <tr>\n",
       "      <th>24</th>\n",
       "      <td>i made a purchase of on xxxxxxxx i made paymen...</td>\n",
       "      <td>made purchase xxxxxxxx made payment xxxxxxxx x...</td>\n",
       "      <td>purchase payment payment closing date statemen...</td>\n",
       "      <td>purchase payment payment closing date statemen...</td>\n",
       "      <td>2</td>\n",
       "    </tr>\n",
       "    <tr>\n",
       "      <th>70</th>\n",
       "      <td>on more than one occasion my bank chase has ch...</td>\n",
       "      <td>one occasion bank chase charged multiple overd...</td>\n",
       "      <td>occasion bank chase overdraft fee account way ...</td>\n",
       "      <td>occasion bank chase overdraft fee account way ...</td>\n",
       "      <td>2</td>\n",
       "    </tr>\n",
       "    <tr>\n",
       "      <th>7</th>\n",
       "      <td>during the summer months i experience a declin...</td>\n",
       "      <td>summer month experience decline income due emp...</td>\n",
       "      <td>summer month experience income employment mont...</td>\n",
       "      <td>summer month experience income employment mont...</td>\n",
       "      <td>2</td>\n",
       "    </tr>\n",
       "    <tr>\n",
       "      <th>57</th>\n",
       "      <td>action taken by the company between the dates ...</td>\n",
       "      <td>action taken company date xxxxxxxx xxxxxxxx in...</td>\n",
       "      <td>action company chase claim claim payment credi...</td>\n",
       "      <td>action company chase claim claim payment credi...</td>\n",
       "      <td>2</td>\n",
       "    </tr>\n",
       "    <tr>\n",
       "      <th>11</th>\n",
       "      <td>i have reached out to xxxx several times in at...</td>\n",
       "      <td>reached xxxx several time attempt fraudulent i...</td>\n",
       "      <td>time attempt inquiry call contact creditor inq...</td>\n",
       "      <td>time attempt inquiry call contact creditor inq...</td>\n",
       "      <td>3</td>\n",
       "    </tr>\n",
       "    <tr>\n",
       "      <th>9</th>\n",
       "      <td>i have a chase credit card which is incorrectl...</td>\n",
       "      <td>chase credit card incorrectly reporting data c...</td>\n",
       "      <td>chase credit card data credit report company i...</td>\n",
       "      <td>chase credit card data credit report company i...</td>\n",
       "      <td>3</td>\n",
       "    </tr>\n",
       "    <tr>\n",
       "      <th>5</th>\n",
       "      <td>can you please remove inquiry</td>\n",
       "      <td>please remove inquiry</td>\n",
       "      <td>inquiry</td>\n",
       "      <td>inquiry</td>\n",
       "      <td>3</td>\n",
       "    </tr>\n",
       "    <tr>\n",
       "      <th>3</th>\n",
       "      <td>on while trying to book a xxxx xxxx ticket i c...</td>\n",
       "      <td>trying book xxxx xxxx ticket came across offer...</td>\n",
       "      <td>book ticket offer ticket reward card informati...</td>\n",
       "      <td>book ticket offer ticket reward card informati...</td>\n",
       "      <td>3</td>\n",
       "    </tr>\n",
       "    <tr>\n",
       "      <th>2</th>\n",
       "      <td>chase card was reported on however fraudulent ...</td>\n",
       "      <td>chase card reported however fraudulent applica...</td>\n",
       "      <td>chase card application identity consent servic...</td>\n",
       "      <td>chase card application identity consent servic...</td>\n",
       "      <td>3</td>\n",
       "    </tr>\n",
       "    <tr>\n",
       "      <th>18</th>\n",
       "      <td>chase sent me an email today with the innocuou...</td>\n",
       "      <td>chase sent email today innocuous title importa...</td>\n",
       "      <td>chase email today title information change cha...</td>\n",
       "      <td>chase email today title information change cha...</td>\n",
       "      <td>4</td>\n",
       "    </tr>\n",
       "    <tr>\n",
       "      <th>23</th>\n",
       "      <td>i have been trying to do a loan modification w...</td>\n",
       "      <td>trying loan modification chase give runaround ...</td>\n",
       "      <td>loan modification chase payment</td>\n",
       "      <td>loan modification chase payment</td>\n",
       "      <td>4</td>\n",
       "    </tr>\n",
       "    <tr>\n",
       "      <th>30</th>\n",
       "      <td>i have wired through one of chase branches in ...</td>\n",
       "      <td>wired one chase branch xxxx xxxx exact reinsta...</td>\n",
       "      <td>chase branch reinstatement amount order remove...</td>\n",
       "      <td>chase branch reinstatement amount order remove...</td>\n",
       "      <td>4</td>\n",
       "    </tr>\n",
       "    <tr>\n",
       "      <th>32</th>\n",
       "      <td>i bought a new xxxx xxxx on xxxxxxxx from xxxx...</td>\n",
       "      <td>bought new xxxx xxxx xxxxxxxx xxxx xxxx xxxx x...</td>\n",
       "      <td>loan title chase time resolution time release ...</td>\n",
       "      <td>loan title chase time resolution time release ...</td>\n",
       "      <td>4</td>\n",
       "    </tr>\n",
       "    <tr>\n",
       "      <th>0</th>\n",
       "      <td>good morning my name is xxxx xxxx and i apprec...</td>\n",
       "      <td>good morning name xxxx xxxx appreciate could h...</td>\n",
       "      <td>morning name stop chase debt verification stat...</td>\n",
       "      <td>morning name stop chase debt verification stat...</td>\n",
       "      <td>4</td>\n",
       "    </tr>\n",
       "  </tbody>\n",
       "</table>\n",
       "</div>"
      ],
      "text/plain": [
       "                                           complaints  \\\n",
       "12  i opened an account with chase bank on xxxx an...   \n",
       "1   i upgraded my xxxx xxxx card in and was told b...   \n",
       "4   my grand son give me check for i deposit it in...   \n",
       "6   with out notice jp morgan chase restricted my ...   \n",
       "10  mishandling of this account by chase auto and ...   \n",
       "21  i am a senior citizen that has been scammed by...   \n",
       "19  i made a purchase with xxxx xxxx xxxx on in th...   \n",
       "8   on xxxx i made a payment to an online retailer...   \n",
       "16  xxxx xxxx a sofa love seat table and chairs an...   \n",
       "14  my chase amazon card was declined for a cateri...   \n",
       "33  i recently called to ask chase bank why they r...   \n",
       "24  i made a purchase of on xxxxxxxx i made paymen...   \n",
       "70  on more than one occasion my bank chase has ch...   \n",
       "7   during the summer months i experience a declin...   \n",
       "57  action taken by the company between the dates ...   \n",
       "11  i have reached out to xxxx several times in at...   \n",
       "9   i have a chase credit card which is incorrectl...   \n",
       "5                       can you please remove inquiry   \n",
       "3   on while trying to book a xxxx xxxx ticket i c...   \n",
       "2   chase card was reported on however fraudulent ...   \n",
       "18  chase sent me an email today with the innocuou...   \n",
       "23  i have been trying to do a loan modification w...   \n",
       "30  i have wired through one of chase branches in ...   \n",
       "32  i bought a new xxxx xxxx on xxxxxxxx from xxxx...   \n",
       "0   good morning my name is xxxx xxxx and i apprec...   \n",
       "\n",
       "                                lemmatized_Complaints  \\\n",
       "12  opened account chase bank xxxx used code xxxx ...   \n",
       "1   upgraded xxxx xxxx card told agent upgrade ann...   \n",
       "4   grand son give check deposit chase account fun...   \n",
       "6   notice jp morgan chase restricted account debi...   \n",
       "10                mishandling account chase auto xxxx   \n",
       "21  senior citizen scammed several company xxxx xx...   \n",
       "19  made purchase xxxx xxxx xxxx amount charged tw...   \n",
       "8   xxxx made payment online retailer using chase ...   \n",
       "16  xxxx xxxx sofa love seat table chair never del...   \n",
       "14  chase amazon card declined catering order plac...   \n",
       "33  recently called ask chase bank reported credit...   \n",
       "24  made purchase xxxxxxxx made payment xxxxxxxx x...   \n",
       "70  one occasion bank chase charged multiple overd...   \n",
       "7   summer month experience decline income due emp...   \n",
       "57  action taken company date xxxxxxxx xxxxxxxx in...   \n",
       "11  reached xxxx several time attempt fraudulent i...   \n",
       "9   chase credit card incorrectly reporting data c...   \n",
       "5                               please remove inquiry   \n",
       "3   trying book xxxx xxxx ticket came across offer...   \n",
       "2   chase card reported however fraudulent applica...   \n",
       "18  chase sent email today innocuous title importa...   \n",
       "23  trying loan modification chase give runaround ...   \n",
       "30  wired one chase branch xxxx xxxx exact reinsta...   \n",
       "32  bought new xxxx xxxx xxxxxxxx xxxx xxxx xxxx x...   \n",
       "0   good morning name xxxx xxxx appreciate could h...   \n",
       "\n",
       "                                complaint_POS_removed  \\\n",
       "12  account code term account deposit bonus day de...   \n",
       "1   agent upgrade anniversary date agent informati...   \n",
       "4   son check deposit chase account account money ...   \n",
       "6   account debit card branch customer service rep...   \n",
       "10                                account chase auto    \n",
       "21  citizen company time share company refund cred...   \n",
       "19  purchase amount transaction dispute case charg...   \n",
       "8   payment retailer chase pay website scam websit...   \n",
       "16  love seat table chair debit card bank claim fu...   \n",
       "14  amazon card catering order brother funeral amo...   \n",
       "33  credit day payment info bill balance amount da...   \n",
       "24  purchase payment payment closing date statemen...   \n",
       "70  occasion bank chase overdraft fee account way ...   \n",
       "7   summer month experience income employment mont...   \n",
       "57  action company chase claim claim payment credi...   \n",
       "11  time attempt inquiry call contact creditor inq...   \n",
       "9   chase credit card data credit report company i...   \n",
       "5                                            inquiry    \n",
       "3   book ticket offer ticket reward card informati...   \n",
       "2   chase card application identity consent servic...   \n",
       "18  chase email today title information change cha...   \n",
       "23                   loan modification chase payment    \n",
       "30  chase branch reinstatement amount order remove...   \n",
       "32  loan title chase time resolution time release ...   \n",
       "0   morning name stop chase debt verification stat...   \n",
       "\n",
       "                                      Complaint_clean  Topic  \n",
       "12  account code term account deposit bonus day de...      0  \n",
       "1   agent upgrade anniversary date agent informati...      0  \n",
       "4   son check deposit chase account account money ...      0  \n",
       "6   account debit card branch customer service rep...      0  \n",
       "10                                account chase auto       0  \n",
       "21  citizen company time share company refund cred...      1  \n",
       "19  purchase amount transaction dispute case charg...      1  \n",
       "8   payment retailer chase pay website scam websit...      1  \n",
       "16  love seat table chair debit card bank claim fu...      1  \n",
       "14  amazon card catering order brother funeral amo...      1  \n",
       "33  credit day payment info bill balance amount da...      2  \n",
       "24  purchase payment payment closing date statemen...      2  \n",
       "70  occasion bank chase overdraft fee account way ...      2  \n",
       "7   summer month experience income employment mont...      2  \n",
       "57  action company chase claim claim payment credi...      2  \n",
       "11  time attempt inquiry call contact creditor inq...      3  \n",
       "9   chase credit card data credit report company i...      3  \n",
       "5                                            inquiry       3  \n",
       "3   book ticket offer ticket reward card informati...      3  \n",
       "2   chase card application identity consent servic...      3  \n",
       "18  chase email today title information change cha...      4  \n",
       "23                   loan modification chase payment       4  \n",
       "30  chase branch reinstatement amount order remove...      4  \n",
       "32  loan title chase time resolution time release ...      4  \n",
       "0   morning name stop chase debt verification stat...      4  "
      ]
     },
     "execution_count": 232,
     "metadata": {},
     "output_type": "execute_result"
    }
   ],
   "source": [
    "# Printing the first 5 Complaint for each of the Topics\n",
    "\n",
    "df_clean.groupby('Topic').head(5).sort_values(by = \"Topic\")"
   ]
  },
  {
   "cell_type": "markdown",
   "metadata": {
    "id": "piyLxzj6v07j"
   },
   "source": [
    "#### After evaluating the mapping, if the topics assigned are correct then assign these names to the relevant topic:\n",
    "* Bank Account services\n",
    "* Credit card or prepaid card\n",
    "* Theft/Dispute Reporting\n",
    "* Mortgage/Loan\n",
    "* Others"
   ]
  },
  {
   "cell_type": "code",
   "execution_count": 233,
   "metadata": {
    "id": "TWpwDG4RJrGG"
   },
   "outputs": [],
   "source": [
    "# Creating the dictionary of Topic names and Topics\n",
    "\n",
    "Topic_names = {0 : \"Bank Account services\", 1 : \"Credit card/Prepaid card\", 2 : \"Mortgage/Loan\", 3 : \"Others\", 4 : \"Theft/Dispute Reporting\"}\n",
    "df_clean['Topic'] = df_clean['Topic'].map(Topic_names)"
   ]
  },
  {
   "cell_type": "code",
   "execution_count": 234,
   "metadata": {
    "id": "-2ULY5K6JrGG"
   },
   "outputs": [
    {
     "data": {
      "text/html": [
       "<div>\n",
       "<style scoped>\n",
       "    .dataframe tbody tr th:only-of-type {\n",
       "        vertical-align: middle;\n",
       "    }\n",
       "\n",
       "    .dataframe tbody tr th {\n",
       "        vertical-align: top;\n",
       "    }\n",
       "\n",
       "    .dataframe thead th {\n",
       "        text-align: right;\n",
       "    }\n",
       "</style>\n",
       "<table border=\"1\" class=\"dataframe\">\n",
       "  <thead>\n",
       "    <tr style=\"text-align: right;\">\n",
       "      <th></th>\n",
       "      <th>complaints</th>\n",
       "      <th>lemmatized_Complaints</th>\n",
       "      <th>complaint_POS_removed</th>\n",
       "      <th>Complaint_clean</th>\n",
       "      <th>Topic</th>\n",
       "    </tr>\n",
       "  </thead>\n",
       "  <tbody>\n",
       "    <tr>\n",
       "      <th>0</th>\n",
       "      <td>good morning my name is xxxx xxxx and i apprec...</td>\n",
       "      <td>good morning name xxxx xxxx appreciate could h...</td>\n",
       "      <td>morning name stop chase debt verification stat...</td>\n",
       "      <td>morning name stop chase debt verification stat...</td>\n",
       "      <td>Theft/Dispute Reporting</td>\n",
       "    </tr>\n",
       "    <tr>\n",
       "      <th>1</th>\n",
       "      <td>i upgraded my xxxx xxxx card in and was told b...</td>\n",
       "      <td>upgraded xxxx xxxx card told agent upgrade ann...</td>\n",
       "      <td>agent upgrade anniversary date agent informati...</td>\n",
       "      <td>agent upgrade anniversary date agent informati...</td>\n",
       "      <td>Bank Account services</td>\n",
       "    </tr>\n",
       "    <tr>\n",
       "      <th>2</th>\n",
       "      <td>chase card was reported on however fraudulent ...</td>\n",
       "      <td>chase card reported however fraudulent applica...</td>\n",
       "      <td>chase card application identity consent servic...</td>\n",
       "      <td>chase card application identity consent servic...</td>\n",
       "      <td>Others</td>\n",
       "    </tr>\n",
       "    <tr>\n",
       "      <th>3</th>\n",
       "      <td>on while trying to book a xxxx xxxx ticket i c...</td>\n",
       "      <td>trying book xxxx xxxx ticket came across offer...</td>\n",
       "      <td>book ticket offer ticket reward card informati...</td>\n",
       "      <td>book ticket offer ticket reward card informati...</td>\n",
       "      <td>Others</td>\n",
       "    </tr>\n",
       "    <tr>\n",
       "      <th>4</th>\n",
       "      <td>my grand son give me check for i deposit it in...</td>\n",
       "      <td>grand son give check deposit chase account fun...</td>\n",
       "      <td>son check deposit chase account account money ...</td>\n",
       "      <td>son check deposit chase account account money ...</td>\n",
       "      <td>Bank Account services</td>\n",
       "    </tr>\n",
       "    <tr>\n",
       "      <th>...</th>\n",
       "      <td>...</td>\n",
       "      <td>...</td>\n",
       "      <td>...</td>\n",
       "      <td>...</td>\n",
       "      <td>...</td>\n",
       "    </tr>\n",
       "    <tr>\n",
       "      <th>21067</th>\n",
       "      <td>after being a chase card customer for well ove...</td>\n",
       "      <td>chase card customer well decade offered multip...</td>\n",
       "      <td>chase card customer well decade solicitation c...</td>\n",
       "      <td>chase card customer well decade solicitation c...</td>\n",
       "      <td>Credit card/Prepaid card</td>\n",
       "    </tr>\n",
       "    <tr>\n",
       "      <th>21068</th>\n",
       "      <td>on wednesday xxxxxxxx i called chas my xxxx xx...</td>\n",
       "      <td>wednesday xxxxxxxx called chas xxxx xxxx visa ...</td>\n",
       "      <td>credit card provider claim purchase protection...</td>\n",
       "      <td>credit card provider claim purchase protection...</td>\n",
       "      <td>Credit card/Prepaid card</td>\n",
       "    </tr>\n",
       "    <tr>\n",
       "      <th>21069</th>\n",
       "      <td>i am not familiar with xxxx pay and did not un...</td>\n",
       "      <td>familiar xxxx pay understand great risk provid...</td>\n",
       "      <td>pay risk consumer year trust banking deal merc...</td>\n",
       "      <td>pay risk consumer year trust banking deal merc...</td>\n",
       "      <td>Others</td>\n",
       "    </tr>\n",
       "    <tr>\n",
       "      <th>21070</th>\n",
       "      <td>i have had flawless credit for yrs ive had cha...</td>\n",
       "      <td>flawless credit yr ive chase credit card chase...</td>\n",
       "      <td>credit yr chase credit card chase freedom prob...</td>\n",
       "      <td>credit yr chase credit card chase freedom prob...</td>\n",
       "      <td>Mortgage/Loan</td>\n",
       "    </tr>\n",
       "    <tr>\n",
       "      <th>21071</th>\n",
       "      <td>roughly years ago i closed out my accounts wit...</td>\n",
       "      <td>roughly year ago closed account jp morgan chas...</td>\n",
       "      <td>year account order line credit pay account pay...</td>\n",
       "      <td>year account order line credit pay account pay...</td>\n",
       "      <td>Mortgage/Loan</td>\n",
       "    </tr>\n",
       "  </tbody>\n",
       "</table>\n",
       "<p>21072 rows × 5 columns</p>\n",
       "</div>"
      ],
      "text/plain": [
       "                                              complaints  \\\n",
       "0      good morning my name is xxxx xxxx and i apprec...   \n",
       "1      i upgraded my xxxx xxxx card in and was told b...   \n",
       "2      chase card was reported on however fraudulent ...   \n",
       "3      on while trying to book a xxxx xxxx ticket i c...   \n",
       "4      my grand son give me check for i deposit it in...   \n",
       "...                                                  ...   \n",
       "21067  after being a chase card customer for well ove...   \n",
       "21068  on wednesday xxxxxxxx i called chas my xxxx xx...   \n",
       "21069  i am not familiar with xxxx pay and did not un...   \n",
       "21070  i have had flawless credit for yrs ive had cha...   \n",
       "21071  roughly years ago i closed out my accounts wit...   \n",
       "\n",
       "                                   lemmatized_Complaints  \\\n",
       "0      good morning name xxxx xxxx appreciate could h...   \n",
       "1      upgraded xxxx xxxx card told agent upgrade ann...   \n",
       "2      chase card reported however fraudulent applica...   \n",
       "3      trying book xxxx xxxx ticket came across offer...   \n",
       "4      grand son give check deposit chase account fun...   \n",
       "...                                                  ...   \n",
       "21067  chase card customer well decade offered multip...   \n",
       "21068  wednesday xxxxxxxx called chas xxxx xxxx visa ...   \n",
       "21069  familiar xxxx pay understand great risk provid...   \n",
       "21070  flawless credit yr ive chase credit card chase...   \n",
       "21071  roughly year ago closed account jp morgan chas...   \n",
       "\n",
       "                                   complaint_POS_removed  \\\n",
       "0      morning name stop chase debt verification stat...   \n",
       "1      agent upgrade anniversary date agent informati...   \n",
       "2      chase card application identity consent servic...   \n",
       "3      book ticket offer ticket reward card informati...   \n",
       "4      son check deposit chase account account money ...   \n",
       "...                                                  ...   \n",
       "21067  chase card customer well decade solicitation c...   \n",
       "21068  credit card provider claim purchase protection...   \n",
       "21069  pay risk consumer year trust banking deal merc...   \n",
       "21070  credit yr chase credit card chase freedom prob...   \n",
       "21071  year account order line credit pay account pay...   \n",
       "\n",
       "                                         Complaint_clean  \\\n",
       "0      morning name stop chase debt verification stat...   \n",
       "1      agent upgrade anniversary date agent informati...   \n",
       "2      chase card application identity consent servic...   \n",
       "3      book ticket offer ticket reward card informati...   \n",
       "4      son check deposit chase account account money ...   \n",
       "...                                                  ...   \n",
       "21067  chase card customer well decade solicitation c...   \n",
       "21068  credit card provider claim purchase protection...   \n",
       "21069  pay risk consumer year trust banking deal merc...   \n",
       "21070  credit yr chase credit card chase freedom prob...   \n",
       "21071  year account order line credit pay account pay...   \n",
       "\n",
       "                          Topic  \n",
       "0       Theft/Dispute Reporting  \n",
       "1         Bank Account services  \n",
       "2                        Others  \n",
       "3                        Others  \n",
       "4         Bank Account services  \n",
       "...                         ...  \n",
       "21067  Credit card/Prepaid card  \n",
       "21068  Credit card/Prepaid card  \n",
       "21069                    Others  \n",
       "21070             Mortgage/Loan  \n",
       "21071             Mortgage/Loan  \n",
       "\n",
       "[21072 rows x 5 columns]"
      ]
     },
     "execution_count": 234,
     "metadata": {},
     "output_type": "execute_result"
    }
   ],
   "source": [
    "# Printing dataframe after updating Topic\n",
    "\n",
    "df_clean"
   ]
  },
  {
   "cell_type": "markdown",
   "metadata": {
    "id": "7Mu0QBOcJrGH"
   },
   "source": [
    "## Supervised model to predict any new complaints to the relevant Topics.\n",
    "\n",
    "You have now build the model to create the topics for each complaints.Now in the below section you will use them to classify any new complaints.\n",
    "\n",
    "Since you will be using supervised learning technique we have to convert the topic names to numbers(numpy arrays only understand numbers)"
   ]
  },
  {
   "cell_type": "code",
   "execution_count": 235,
   "metadata": {
    "id": "_U8J3J8wJrGH"
   },
   "outputs": [],
   "source": [
    "# Creating the dictionary again of Topic names and Topics\n",
    "\n",
    "Topic_names = { \"Bank Account services\":0,\n",
    "               \"Credit card/Prepaid card\":1,\n",
    "               \"Mortgage/Loan\":2,\n",
    "               \"Others\":3,\n",
    "               \"Theft/Dispute Reporting\":4 }\n",
    "\n",
    "#Replacing Topics with Topic Names\n",
    "df_clean['Topic'] = df_clean['Topic'].map(Topic_names)"
   ]
  },
  {
   "cell_type": "code",
   "execution_count": 236,
   "metadata": {
    "id": "BWIgJUkQJrGH"
   },
   "outputs": [
    {
     "data": {
      "text/html": [
       "<div>\n",
       "<style scoped>\n",
       "    .dataframe tbody tr th:only-of-type {\n",
       "        vertical-align: middle;\n",
       "    }\n",
       "\n",
       "    .dataframe tbody tr th {\n",
       "        vertical-align: top;\n",
       "    }\n",
       "\n",
       "    .dataframe thead th {\n",
       "        text-align: right;\n",
       "    }\n",
       "</style>\n",
       "<table border=\"1\" class=\"dataframe\">\n",
       "  <thead>\n",
       "    <tr style=\"text-align: right;\">\n",
       "      <th></th>\n",
       "      <th>complaints</th>\n",
       "      <th>lemmatized_Complaints</th>\n",
       "      <th>complaint_POS_removed</th>\n",
       "      <th>Complaint_clean</th>\n",
       "      <th>Topic</th>\n",
       "    </tr>\n",
       "  </thead>\n",
       "  <tbody>\n",
       "    <tr>\n",
       "      <th>0</th>\n",
       "      <td>good morning my name is xxxx xxxx and i apprec...</td>\n",
       "      <td>good morning name xxxx xxxx appreciate could h...</td>\n",
       "      <td>morning name stop chase debt verification stat...</td>\n",
       "      <td>morning name stop chase debt verification stat...</td>\n",
       "      <td>4</td>\n",
       "    </tr>\n",
       "    <tr>\n",
       "      <th>1</th>\n",
       "      <td>i upgraded my xxxx xxxx card in and was told b...</td>\n",
       "      <td>upgraded xxxx xxxx card told agent upgrade ann...</td>\n",
       "      <td>agent upgrade anniversary date agent informati...</td>\n",
       "      <td>agent upgrade anniversary date agent informati...</td>\n",
       "      <td>0</td>\n",
       "    </tr>\n",
       "    <tr>\n",
       "      <th>2</th>\n",
       "      <td>chase card was reported on however fraudulent ...</td>\n",
       "      <td>chase card reported however fraudulent applica...</td>\n",
       "      <td>chase card application identity consent servic...</td>\n",
       "      <td>chase card application identity consent servic...</td>\n",
       "      <td>3</td>\n",
       "    </tr>\n",
       "    <tr>\n",
       "      <th>3</th>\n",
       "      <td>on while trying to book a xxxx xxxx ticket i c...</td>\n",
       "      <td>trying book xxxx xxxx ticket came across offer...</td>\n",
       "      <td>book ticket offer ticket reward card informati...</td>\n",
       "      <td>book ticket offer ticket reward card informati...</td>\n",
       "      <td>3</td>\n",
       "    </tr>\n",
       "    <tr>\n",
       "      <th>4</th>\n",
       "      <td>my grand son give me check for i deposit it in...</td>\n",
       "      <td>grand son give check deposit chase account fun...</td>\n",
       "      <td>son check deposit chase account account money ...</td>\n",
       "      <td>son check deposit chase account account money ...</td>\n",
       "      <td>0</td>\n",
       "    </tr>\n",
       "    <tr>\n",
       "      <th>...</th>\n",
       "      <td>...</td>\n",
       "      <td>...</td>\n",
       "      <td>...</td>\n",
       "      <td>...</td>\n",
       "      <td>...</td>\n",
       "    </tr>\n",
       "    <tr>\n",
       "      <th>21067</th>\n",
       "      <td>after being a chase card customer for well ove...</td>\n",
       "      <td>chase card customer well decade offered multip...</td>\n",
       "      <td>chase card customer well decade solicitation c...</td>\n",
       "      <td>chase card customer well decade solicitation c...</td>\n",
       "      <td>1</td>\n",
       "    </tr>\n",
       "    <tr>\n",
       "      <th>21068</th>\n",
       "      <td>on wednesday xxxxxxxx i called chas my xxxx xx...</td>\n",
       "      <td>wednesday xxxxxxxx called chas xxxx xxxx visa ...</td>\n",
       "      <td>credit card provider claim purchase protection...</td>\n",
       "      <td>credit card provider claim purchase protection...</td>\n",
       "      <td>1</td>\n",
       "    </tr>\n",
       "    <tr>\n",
       "      <th>21069</th>\n",
       "      <td>i am not familiar with xxxx pay and did not un...</td>\n",
       "      <td>familiar xxxx pay understand great risk provid...</td>\n",
       "      <td>pay risk consumer year trust banking deal merc...</td>\n",
       "      <td>pay risk consumer year trust banking deal merc...</td>\n",
       "      <td>3</td>\n",
       "    </tr>\n",
       "    <tr>\n",
       "      <th>21070</th>\n",
       "      <td>i have had flawless credit for yrs ive had cha...</td>\n",
       "      <td>flawless credit yr ive chase credit card chase...</td>\n",
       "      <td>credit yr chase credit card chase freedom prob...</td>\n",
       "      <td>credit yr chase credit card chase freedom prob...</td>\n",
       "      <td>2</td>\n",
       "    </tr>\n",
       "    <tr>\n",
       "      <th>21071</th>\n",
       "      <td>roughly years ago i closed out my accounts wit...</td>\n",
       "      <td>roughly year ago closed account jp morgan chas...</td>\n",
       "      <td>year account order line credit pay account pay...</td>\n",
       "      <td>year account order line credit pay account pay...</td>\n",
       "      <td>2</td>\n",
       "    </tr>\n",
       "  </tbody>\n",
       "</table>\n",
       "<p>21072 rows × 5 columns</p>\n",
       "</div>"
      ],
      "text/plain": [
       "                                              complaints  \\\n",
       "0      good morning my name is xxxx xxxx and i apprec...   \n",
       "1      i upgraded my xxxx xxxx card in and was told b...   \n",
       "2      chase card was reported on however fraudulent ...   \n",
       "3      on while trying to book a xxxx xxxx ticket i c...   \n",
       "4      my grand son give me check for i deposit it in...   \n",
       "...                                                  ...   \n",
       "21067  after being a chase card customer for well ove...   \n",
       "21068  on wednesday xxxxxxxx i called chas my xxxx xx...   \n",
       "21069  i am not familiar with xxxx pay and did not un...   \n",
       "21070  i have had flawless credit for yrs ive had cha...   \n",
       "21071  roughly years ago i closed out my accounts wit...   \n",
       "\n",
       "                                   lemmatized_Complaints  \\\n",
       "0      good morning name xxxx xxxx appreciate could h...   \n",
       "1      upgraded xxxx xxxx card told agent upgrade ann...   \n",
       "2      chase card reported however fraudulent applica...   \n",
       "3      trying book xxxx xxxx ticket came across offer...   \n",
       "4      grand son give check deposit chase account fun...   \n",
       "...                                                  ...   \n",
       "21067  chase card customer well decade offered multip...   \n",
       "21068  wednesday xxxxxxxx called chas xxxx xxxx visa ...   \n",
       "21069  familiar xxxx pay understand great risk provid...   \n",
       "21070  flawless credit yr ive chase credit card chase...   \n",
       "21071  roughly year ago closed account jp morgan chas...   \n",
       "\n",
       "                                   complaint_POS_removed  \\\n",
       "0      morning name stop chase debt verification stat...   \n",
       "1      agent upgrade anniversary date agent informati...   \n",
       "2      chase card application identity consent servic...   \n",
       "3      book ticket offer ticket reward card informati...   \n",
       "4      son check deposit chase account account money ...   \n",
       "...                                                  ...   \n",
       "21067  chase card customer well decade solicitation c...   \n",
       "21068  credit card provider claim purchase protection...   \n",
       "21069  pay risk consumer year trust banking deal merc...   \n",
       "21070  credit yr chase credit card chase freedom prob...   \n",
       "21071  year account order line credit pay account pay...   \n",
       "\n",
       "                                         Complaint_clean  Topic  \n",
       "0      morning name stop chase debt verification stat...      4  \n",
       "1      agent upgrade anniversary date agent informati...      0  \n",
       "2      chase card application identity consent servic...      3  \n",
       "3      book ticket offer ticket reward card informati...      3  \n",
       "4      son check deposit chase account account money ...      0  \n",
       "...                                                  ...    ...  \n",
       "21067  chase card customer well decade solicitation c...      1  \n",
       "21068  credit card provider claim purchase protection...      1  \n",
       "21069  pay risk consumer year trust banking deal merc...      3  \n",
       "21070  credit yr chase credit card chase freedom prob...      2  \n",
       "21071  year account order line credit pay account pay...      2  \n",
       "\n",
       "[21072 rows x 5 columns]"
      ]
     },
     "execution_count": 236,
     "metadata": {},
     "output_type": "execute_result"
    }
   ],
   "source": [
    "# Printing dataframe after updating Topic\n",
    "\n",
    "df_clean"
   ]
  },
  {
   "cell_type": "code",
   "execution_count": 237,
   "metadata": {
    "id": "Xx-FrbkWJrGH"
   },
   "outputs": [],
   "source": [
    "# Keeping the columns\"complaints\" & \"Topic\" only in the new dataframe --> training_data\n",
    "\n",
    "training_data = df_clean[[\"complaints\",\"Topic\"]]"
   ]
  },
  {
   "cell_type": "code",
   "execution_count": 238,
   "metadata": {
    "id": "lVg2pa12JrGI"
   },
   "outputs": [
    {
     "data": {
      "text/html": [
       "<div>\n",
       "<style scoped>\n",
       "    .dataframe tbody tr th:only-of-type {\n",
       "        vertical-align: middle;\n",
       "    }\n",
       "\n",
       "    .dataframe tbody tr th {\n",
       "        vertical-align: top;\n",
       "    }\n",
       "\n",
       "    .dataframe thead th {\n",
       "        text-align: right;\n",
       "    }\n",
       "</style>\n",
       "<table border=\"1\" class=\"dataframe\">\n",
       "  <thead>\n",
       "    <tr style=\"text-align: right;\">\n",
       "      <th></th>\n",
       "      <th>complaints</th>\n",
       "      <th>Topic</th>\n",
       "    </tr>\n",
       "  </thead>\n",
       "  <tbody>\n",
       "    <tr>\n",
       "      <th>0</th>\n",
       "      <td>good morning my name is xxxx xxxx and i apprec...</td>\n",
       "      <td>4</td>\n",
       "    </tr>\n",
       "    <tr>\n",
       "      <th>1</th>\n",
       "      <td>i upgraded my xxxx xxxx card in and was told b...</td>\n",
       "      <td>0</td>\n",
       "    </tr>\n",
       "    <tr>\n",
       "      <th>2</th>\n",
       "      <td>chase card was reported on however fraudulent ...</td>\n",
       "      <td>3</td>\n",
       "    </tr>\n",
       "    <tr>\n",
       "      <th>3</th>\n",
       "      <td>on while trying to book a xxxx xxxx ticket i c...</td>\n",
       "      <td>3</td>\n",
       "    </tr>\n",
       "    <tr>\n",
       "      <th>4</th>\n",
       "      <td>my grand son give me check for i deposit it in...</td>\n",
       "      <td>0</td>\n",
       "    </tr>\n",
       "    <tr>\n",
       "      <th>...</th>\n",
       "      <td>...</td>\n",
       "      <td>...</td>\n",
       "    </tr>\n",
       "    <tr>\n",
       "      <th>21067</th>\n",
       "      <td>after being a chase card customer for well ove...</td>\n",
       "      <td>1</td>\n",
       "    </tr>\n",
       "    <tr>\n",
       "      <th>21068</th>\n",
       "      <td>on wednesday xxxxxxxx i called chas my xxxx xx...</td>\n",
       "      <td>1</td>\n",
       "    </tr>\n",
       "    <tr>\n",
       "      <th>21069</th>\n",
       "      <td>i am not familiar with xxxx pay and did not un...</td>\n",
       "      <td>3</td>\n",
       "    </tr>\n",
       "    <tr>\n",
       "      <th>21070</th>\n",
       "      <td>i have had flawless credit for yrs ive had cha...</td>\n",
       "      <td>2</td>\n",
       "    </tr>\n",
       "    <tr>\n",
       "      <th>21071</th>\n",
       "      <td>roughly years ago i closed out my accounts wit...</td>\n",
       "      <td>2</td>\n",
       "    </tr>\n",
       "  </tbody>\n",
       "</table>\n",
       "<p>21072 rows × 2 columns</p>\n",
       "</div>"
      ],
      "text/plain": [
       "                                              complaints  Topic\n",
       "0      good morning my name is xxxx xxxx and i apprec...      4\n",
       "1      i upgraded my xxxx xxxx card in and was told b...      0\n",
       "2      chase card was reported on however fraudulent ...      3\n",
       "3      on while trying to book a xxxx xxxx ticket i c...      3\n",
       "4      my grand son give me check for i deposit it in...      0\n",
       "...                                                  ...    ...\n",
       "21067  after being a chase card customer for well ove...      1\n",
       "21068  on wednesday xxxxxxxx i called chas my xxxx xx...      1\n",
       "21069  i am not familiar with xxxx pay and did not un...      3\n",
       "21070  i have had flawless credit for yrs ive had cha...      2\n",
       "21071  roughly years ago i closed out my accounts wit...      2\n",
       "\n",
       "[21072 rows x 2 columns]"
      ]
     },
     "execution_count": 238,
     "metadata": {},
     "output_type": "execute_result"
    }
   ],
   "source": [
    "# Checking the content of new \"training_data\" dataframe\n",
    "\n",
    "training_data"
   ]
  },
  {
   "cell_type": "code",
   "execution_count": 239,
   "metadata": {},
   "outputs": [
    {
     "data": {
      "text/plain": [
       "(21072, 2)"
      ]
     },
     "execution_count": 239,
     "metadata": {},
     "output_type": "execute_result"
    }
   ],
   "source": [
    "# Checking shape of training_data dataframe\n",
    "\n",
    "training_data.shape"
   ]
  },
  {
   "cell_type": "markdown",
   "metadata": {
    "id": "280Vbqk-7a8M"
   },
   "source": [
    "####Apply the supervised models on the training data created. In this process, you have to do the following:\n",
    "* Create the vector counts using Count Vectoriser\n",
    "* Transform the word vecotr to tf-idf\n",
    "* Create the train & test data using the train_test_split on the tf-idf & topics\n"
   ]
  },
  {
   "cell_type": "code",
   "execution_count": 240,
   "metadata": {},
   "outputs": [],
   "source": [
    "# Importing necesarry package and methods\n",
    "\n",
    "import sklearn.feature_extraction.text\n",
    "from sklearn.feature_extraction.text import TfidfTransformer\n",
    "from sklearn.linear_model import LogisticRegression\n",
    "from sklearn.ensemble import RandomForestClassifier\n",
    "from sklearn.tree import DecisionTreeClassifier\n",
    "from sklearn.model_selection import train_test_split"
   ]
  },
  {
   "cell_type": "code",
   "execution_count": 241,
   "metadata": {
    "id": "oUlQpgkzJrGI"
   },
   "outputs": [
    {
     "data": {
      "text/plain": [
       "(21072, 2)"
      ]
     },
     "execution_count": 241,
     "metadata": {},
     "output_type": "execute_result"
    }
   ],
   "source": [
    "# Shape before split\n",
    "\n",
    "training_data.shape"
   ]
  },
  {
   "cell_type": "code",
   "execution_count": 242,
   "metadata": {},
   "outputs": [],
   "source": [
    "# Performing Train-Test split\n",
    "\n",
    "X_train_complaint, X_test_complaint, y_train, y_test = train_test_split(training_data.complaints, training_data.Topic , train_size=0.8, random_state=40)"
   ]
  },
  {
   "cell_type": "code",
   "execution_count": 243,
   "metadata": {},
   "outputs": [],
   "source": [
    "#Get the Vector count\n",
    "\n",
    "count_vect = CountVectorizer()\n",
    "X_train = count_vect.fit_transform(X_train_complaint)\n",
    "X_test = count_vect.transform(X_test_complaint)\n",
    "\n",
    "#Transform the word vector to tf-idf\n",
    "\n",
    "tfidf_transformer = TfidfTransformer()\n",
    "X_train = tfidf_transformer.fit_transform(X_train)\n",
    "X_test = tfidf_transformer.transform(X_test)"
   ]
  },
  {
   "cell_type": "code",
   "execution_count": 244,
   "metadata": {},
   "outputs": [
    {
     "name": "stdout",
     "output_type": "stream",
     "text": [
      "(16857, 30069) (16857,)\n",
      "(4215, 30069) (4215,)\n"
     ]
    }
   ],
   "source": [
    "# Checking shape after split\n",
    "\n",
    "print(X_train.shape, y_train.shape)\n",
    "print(X_test.shape, y_test.shape)"
   ]
  },
  {
   "cell_type": "markdown",
   "metadata": {
    "id": "uMU3vj6w-wqL"
   },
   "source": [
    "You have to try atleast 3 models on the train & test data from these options:\n",
    "* Logistic regression\n",
    "* Decision Tree\n",
    "* Random Forest\n",
    "* Naive Bayes (optional)\n",
    "\n",
    "**Using the required evaluation metrics judge the tried models and select the ones performing the best**"
   ]
  },
  {
   "cell_type": "code",
   "execution_count": 245,
   "metadata": {},
   "outputs": [],
   "source": [
    "# Importing differnt methods\n",
    "\n",
    "from sklearn.metrics import f1_score, classification_report, confusion_matrix\n",
    "from sklearn import metrics\n"
   ]
  },
  {
   "cell_type": "code",
   "execution_count": 246,
   "metadata": {
    "id": "N2OznsObJrGP"
   },
   "outputs": [],
   "source": [
    "# For y_test and y__test_pred displaying the Classification Metrics\n",
    "\n",
    "def computeClassificationMetrics(y_test,y_test_pred, plot=True):\n",
    "        print('*'*22+\"Classification Report\"+'*'*22)\n",
    "        print(classification_report(y_test,y_test_pred))"
   ]
  },
  {
   "cell_type": "code",
   "execution_count": 247,
   "metadata": {},
   "outputs": [],
   "source": [
    "# Training models and testing on a test set.\n",
    "\n",
    "\n",
    "def model_fit(alg, X_train_data, y_train_data, X_test_data, y_test_data, plot=True):\n",
    "    # Declaring global variable to save the value of fi score and accuracy of every model\n",
    "    \n",
    "    global f1\n",
    "    global accuracy \n",
    "    \n",
    "    #Fitting the algorithm on the data and predicting it on traning and validation set\n",
    "    \n",
    "    alg.fit(X_train_data, y_train_data)\n",
    "        \n",
    "    y_train_pred = alg.predict(X_train_data)\n",
    "    y_test_pred = alg.predict(X_test_data)\n",
    "    f1 = f1_score(y_test_data, y_test_pred, average=\"weighted\")\n",
    "    accuracy = metrics.accuracy_score(y_test_data, y_test_pred)\n",
    "    computeClassificationMetrics(y_test_data, y_test_pred, plot)"
   ]
  },
  {
   "cell_type": "markdown",
   "metadata": {},
   "source": [
    "# Model1 : Logistic Regression"
   ]
  },
  {
   "cell_type": "code",
   "execution_count": 248,
   "metadata": {},
   "outputs": [],
   "source": [
    "# Logistic Regression\n",
    "logreg = LogisticRegression(random_state = 42, max_iter=400)"
   ]
  },
  {
   "cell_type": "code",
   "execution_count": 249,
   "metadata": {},
   "outputs": [
    {
     "name": "stdout",
     "output_type": "stream",
     "text": [
      "**********************Classification Report**********************\n",
      "              precision    recall  f1-score   support\n",
      "\n",
      "           0       0.91      0.94      0.93      1149\n",
      "           1       0.90      0.95      0.93      1187\n",
      "           2       0.95      0.86      0.90       512\n",
      "           3       0.94      0.86      0.90       581\n",
      "           4       0.93      0.92      0.92       786\n",
      "\n",
      "    accuracy                           0.92      4215\n",
      "   macro avg       0.92      0.91      0.91      4215\n",
      "weighted avg       0.92      0.92      0.92      4215\n",
      "\n"
     ]
    }
   ],
   "source": [
    "# Model fit on train and test data\n",
    "\n",
    "model_fit(logreg,X_train, y_train, X_test, y_test ,True)"
   ]
  },
  {
   "cell_type": "code",
   "execution_count": 250,
   "metadata": {},
   "outputs": [
    {
     "data": {
      "text/html": [
       "<div>\n",
       "<style scoped>\n",
       "    .dataframe tbody tr th:only-of-type {\n",
       "        vertical-align: middle;\n",
       "    }\n",
       "\n",
       "    .dataframe tbody tr th {\n",
       "        vertical-align: top;\n",
       "    }\n",
       "\n",
       "    .dataframe thead th {\n",
       "        text-align: right;\n",
       "    }\n",
       "</style>\n",
       "<table border=\"1\" class=\"dataframe\">\n",
       "  <thead>\n",
       "    <tr style=\"text-align: right;\">\n",
       "      <th></th>\n",
       "      <th>Model</th>\n",
       "      <th>F1 Score</th>\n",
       "      <th>Accuracy</th>\n",
       "    </tr>\n",
       "  </thead>\n",
       "  <tbody>\n",
       "    <tr>\n",
       "      <th>0</th>\n",
       "      <td>Logistic Regression</td>\n",
       "      <td>0.92</td>\n",
       "      <td>0.92</td>\n",
       "    </tr>\n",
       "  </tbody>\n",
       "</table>\n",
       "</div>"
      ],
      "text/plain": [
       "                 Model  F1 Score  Accuracy\n",
       "0  Logistic Regression      0.92      0.92"
      ]
     },
     "execution_count": 250,
     "metadata": {},
     "output_type": "execute_result"
    }
   ],
   "source": [
    "# Listing summary in a dataframe\n",
    "\n",
    "summary = pd.DataFrame([{'Model': 'Logistic Regression','F1 Score': round(f1, 2), 'Accuracy': round(accuracy, 2)}])\n",
    "\n",
    "# Printing the model summary\n",
    "\n",
    "summary"
   ]
  },
  {
   "cell_type": "markdown",
   "metadata": {},
   "source": [
    "## Observation : Accuracy of Logistic regression = 0.92"
   ]
  },
  {
   "cell_type": "markdown",
   "metadata": {},
   "source": [
    "# Model2 : Decision Tree"
   ]
  },
  {
   "cell_type": "code",
   "execution_count": 251,
   "metadata": {},
   "outputs": [],
   "source": [
    "# Using Decision Trees\n",
    "\n",
    "dt = DecisionTreeClassifier(max_depth=8, random_state=40)"
   ]
  },
  {
   "cell_type": "code",
   "execution_count": 252,
   "metadata": {},
   "outputs": [
    {
     "name": "stdout",
     "output_type": "stream",
     "text": [
      "**********************Classification Report**********************\n",
      "              precision    recall  f1-score   support\n",
      "\n",
      "           0       0.82      0.76      0.79      1149\n",
      "           1       0.75      0.82      0.78      1187\n",
      "           2       0.82      0.71      0.76       512\n",
      "           3       0.79      0.63      0.70       581\n",
      "           4       0.71      0.85      0.77       786\n",
      "\n",
      "    accuracy                           0.77      4215\n",
      "   macro avg       0.78      0.75      0.76      4215\n",
      "weighted avg       0.78      0.77      0.77      4215\n",
      "\n"
     ]
    }
   ],
   "source": [
    "# Model fit on train and validate data\n",
    "\n",
    "model_fit(dt,X_train, y_train, X_test, y_test ,True)"
   ]
  },
  {
   "cell_type": "code",
   "execution_count": 253,
   "metadata": {},
   "outputs": [
    {
     "data": {
      "text/html": [
       "<div>\n",
       "<style scoped>\n",
       "    .dataframe tbody tr th:only-of-type {\n",
       "        vertical-align: middle;\n",
       "    }\n",
       "\n",
       "    .dataframe tbody tr th {\n",
       "        vertical-align: top;\n",
       "    }\n",
       "\n",
       "    .dataframe thead th {\n",
       "        text-align: right;\n",
       "    }\n",
       "</style>\n",
       "<table border=\"1\" class=\"dataframe\">\n",
       "  <thead>\n",
       "    <tr style=\"text-align: right;\">\n",
       "      <th></th>\n",
       "      <th>Model</th>\n",
       "      <th>F1 Score</th>\n",
       "      <th>Accuracy</th>\n",
       "    </tr>\n",
       "  </thead>\n",
       "  <tbody>\n",
       "    <tr>\n",
       "      <th>0</th>\n",
       "      <td>Logistic Regression</td>\n",
       "      <td>0.92</td>\n",
       "      <td>0.92</td>\n",
       "    </tr>\n",
       "    <tr>\n",
       "      <th>1</th>\n",
       "      <td>Decision Tree</td>\n",
       "      <td>0.77</td>\n",
       "      <td>0.77</td>\n",
       "    </tr>\n",
       "  </tbody>\n",
       "</table>\n",
       "</div>"
      ],
      "text/plain": [
       "                 Model  F1 Score  Accuracy\n",
       "0  Logistic Regression      0.92      0.92\n",
       "1        Decision Tree      0.77      0.77"
      ]
     },
     "execution_count": 253,
     "metadata": {},
     "output_type": "execute_result"
    }
   ],
   "source": [
    "# Listing summary in a dataframe \n",
    "\n",
    "summary.loc[len(summary.index)] = ['Decision Tree', round(f1, 2), round(accuracy, 2)]\n",
    "\n",
    "# Printing Summary\n",
    "\n",
    "summary"
   ]
  },
  {
   "cell_type": "markdown",
   "metadata": {},
   "source": [
    "## Observation : Accuracy of Decision Tree = 0.77"
   ]
  },
  {
   "cell_type": "markdown",
   "metadata": {},
   "source": [
    "# Model3 : Random Forest"
   ]
  },
  {
   "cell_type": "code",
   "execution_count": 254,
   "metadata": {},
   "outputs": [],
   "source": [
    "# Using Random Forest Model\n",
    "\n",
    "rfc = RandomForestClassifier(random_state=40)"
   ]
  },
  {
   "cell_type": "code",
   "execution_count": 255,
   "metadata": {
    "scrolled": true
   },
   "outputs": [
    {
     "name": "stdout",
     "output_type": "stream",
     "text": [
      "**********************Classification Report**********************\n",
      "              precision    recall  f1-score   support\n",
      "\n",
      "           0       0.79      0.91      0.85      1149\n",
      "           1       0.76      0.90      0.83      1187\n",
      "           2       0.92      0.48      0.63       512\n",
      "           3       0.87      0.69      0.77       581\n",
      "           4       0.89      0.84      0.86       786\n",
      "\n",
      "    accuracy                           0.81      4215\n",
      "   macro avg       0.85      0.77      0.79      4215\n",
      "weighted avg       0.83      0.81      0.81      4215\n",
      "\n"
     ]
    }
   ],
   "source": [
    "# Model fit on train and validate data\n",
    "\n",
    "model_fit(rfc,X_train, y_train, X_test, y_test ,True)"
   ]
  },
  {
   "cell_type": "code",
   "execution_count": 256,
   "metadata": {},
   "outputs": [
    {
     "data": {
      "text/html": [
       "<div>\n",
       "<style scoped>\n",
       "    .dataframe tbody tr th:only-of-type {\n",
       "        vertical-align: middle;\n",
       "    }\n",
       "\n",
       "    .dataframe tbody tr th {\n",
       "        vertical-align: top;\n",
       "    }\n",
       "\n",
       "    .dataframe thead th {\n",
       "        text-align: right;\n",
       "    }\n",
       "</style>\n",
       "<table border=\"1\" class=\"dataframe\">\n",
       "  <thead>\n",
       "    <tr style=\"text-align: right;\">\n",
       "      <th></th>\n",
       "      <th>Model</th>\n",
       "      <th>F1 Score</th>\n",
       "      <th>Accuracy</th>\n",
       "    </tr>\n",
       "  </thead>\n",
       "  <tbody>\n",
       "    <tr>\n",
       "      <th>0</th>\n",
       "      <td>Logistic Regression</td>\n",
       "      <td>0.92</td>\n",
       "      <td>0.92</td>\n",
       "    </tr>\n",
       "    <tr>\n",
       "      <th>1</th>\n",
       "      <td>Decision Tree</td>\n",
       "      <td>0.77</td>\n",
       "      <td>0.77</td>\n",
       "    </tr>\n",
       "    <tr>\n",
       "      <th>2</th>\n",
       "      <td>Random Forest</td>\n",
       "      <td>0.81</td>\n",
       "      <td>0.81</td>\n",
       "    </tr>\n",
       "  </tbody>\n",
       "</table>\n",
       "</div>"
      ],
      "text/plain": [
       "                 Model  F1 Score  Accuracy\n",
       "0  Logistic Regression      0.92      0.92\n",
       "1        Decision Tree      0.77      0.77\n",
       "2        Random Forest      0.81      0.81"
      ]
     },
     "execution_count": 256,
     "metadata": {},
     "output_type": "execute_result"
    }
   ],
   "source": [
    "# Listing summary in a dataframe \n",
    "\n",
    "summary.loc[len(summary.index)] = ['Random Forest', round(f1, 2), round(accuracy, 2)]\n",
    "\n",
    "# Printing Summary\n",
    "\n",
    "summary"
   ]
  },
  {
   "cell_type": "markdown",
   "metadata": {},
   "source": [
    "## Observation : Accuracy of Random Forest = 0.81"
   ]
  },
  {
   "cell_type": "markdown",
   "metadata": {},
   "source": [
    "# Model4 : Naive Bayes"
   ]
  },
  {
   "cell_type": "code",
   "execution_count": 257,
   "metadata": {},
   "outputs": [],
   "source": [
    "# Importing MultinomialNB classifier\n",
    "\n",
    "from sklearn.naive_bayes import MultinomialNB"
   ]
  },
  {
   "cell_type": "code",
   "execution_count": 258,
   "metadata": {},
   "outputs": [],
   "source": [
    "# Using multinomial Naive Bayes classifier\n",
    "\n",
    "MNB = MultinomialNB()"
   ]
  },
  {
   "cell_type": "code",
   "execution_count": 259,
   "metadata": {},
   "outputs": [
    {
     "name": "stdout",
     "output_type": "stream",
     "text": [
      "**********************Classification Report**********************\n",
      "              precision    recall  f1-score   support\n",
      "\n",
      "           0       0.72      0.89      0.79      1149\n",
      "           1       0.56      0.90      0.69      1187\n",
      "           2       0.94      0.03      0.06       512\n",
      "           3       0.93      0.30      0.46       581\n",
      "           4       0.84      0.72      0.77       786\n",
      "\n",
      "    accuracy                           0.68      4215\n",
      "   macro avg       0.80      0.57      0.56      4215\n",
      "weighted avg       0.75      0.68      0.63      4215\n",
      "\n"
     ]
    }
   ],
   "source": [
    "# Model fit on train and test data\n",
    "\n",
    "model_fit(MNB,X_train, y_train, X_test, y_test ,True)"
   ]
  },
  {
   "cell_type": "code",
   "execution_count": 260,
   "metadata": {},
   "outputs": [
    {
     "data": {
      "text/html": [
       "<div>\n",
       "<style scoped>\n",
       "    .dataframe tbody tr th:only-of-type {\n",
       "        vertical-align: middle;\n",
       "    }\n",
       "\n",
       "    .dataframe tbody tr th {\n",
       "        vertical-align: top;\n",
       "    }\n",
       "\n",
       "    .dataframe thead th {\n",
       "        text-align: right;\n",
       "    }\n",
       "</style>\n",
       "<table border=\"1\" class=\"dataframe\">\n",
       "  <thead>\n",
       "    <tr style=\"text-align: right;\">\n",
       "      <th></th>\n",
       "      <th>Model</th>\n",
       "      <th>F1 Score</th>\n",
       "      <th>Accuracy</th>\n",
       "    </tr>\n",
       "  </thead>\n",
       "  <tbody>\n",
       "    <tr>\n",
       "      <th>0</th>\n",
       "      <td>Logistic Regression</td>\n",
       "      <td>0.92</td>\n",
       "      <td>0.92</td>\n",
       "    </tr>\n",
       "    <tr>\n",
       "      <th>1</th>\n",
       "      <td>Decision Tree</td>\n",
       "      <td>0.77</td>\n",
       "      <td>0.77</td>\n",
       "    </tr>\n",
       "    <tr>\n",
       "      <th>2</th>\n",
       "      <td>Random Forest</td>\n",
       "      <td>0.81</td>\n",
       "      <td>0.81</td>\n",
       "    </tr>\n",
       "    <tr>\n",
       "      <th>3</th>\n",
       "      <td>Naive Bayes</td>\n",
       "      <td>0.63</td>\n",
       "      <td>0.68</td>\n",
       "    </tr>\n",
       "  </tbody>\n",
       "</table>\n",
       "</div>"
      ],
      "text/plain": [
       "                 Model  F1 Score  Accuracy\n",
       "0  Logistic Regression      0.92      0.92\n",
       "1        Decision Tree      0.77      0.77\n",
       "2        Random Forest      0.81      0.81\n",
       "3          Naive Bayes      0.63      0.68"
      ]
     },
     "execution_count": 260,
     "metadata": {},
     "output_type": "execute_result"
    }
   ],
   "source": [
    "# Listing summary in a dataframe \n",
    "\n",
    "summary.loc[len(summary.index)] = ['Naive Bayes', round(f1, 2), round(accuracy, 2)]\n",
    "\n",
    "# Printing Summary\n",
    "\n",
    "summary"
   ]
  },
  {
   "cell_type": "markdown",
   "metadata": {},
   "source": [
    "## Logistic Regression model performs the best for classifying customer complaints"
   ]
  },
  {
   "cell_type": "code",
   "execution_count": 261,
   "metadata": {},
   "outputs": [],
   "source": [
    "Topic_names = { \"Bank Account services\":0,\n",
    "               \"Credit card/Prepaid card\":1,\n",
    "               \"Mortgage/Loan\":2,\n",
    "               \"Others\":3,\n",
    "               \"Theft/Dispute Reporting\":4 }"
   ]
  },
  {
   "cell_type": "code",
   "execution_count": 262,
   "metadata": {},
   "outputs": [],
   "source": [
    "# Custom text to predict the Topic\n",
    "\n",
    "custom_text = \"Not able to use my chase credit card for the past 3 days, for online purchasing. The card has not expired yet and I also have a good credit score. Please do look into this issue\"\n"
   ]
  },
  {
   "cell_type": "code",
   "execution_count": 263,
   "metadata": {},
   "outputs": [],
   "source": [
    "# Transforming using the existing count_vect\n",
    "\n",
    "custom_txt_X = count_vect.transform([custom_text])\n"
   ]
  },
  {
   "cell_type": "code",
   "execution_count": 264,
   "metadata": {},
   "outputs": [],
   "source": [
    "# Transform using the existing tfidf_transformer\n",
    "\n",
    "custom_txt_tfidf = tfidf_transformer.transform(custom_txt_X)"
   ]
  },
  {
   "cell_type": "code",
   "execution_count": 265,
   "metadata": {},
   "outputs": [],
   "source": [
    "# Predicting the topic using logistic regression\n",
    "\n",
    "y_custom_text_topic_pred = logreg.predict(custom_txt_tfidf)"
   ]
  },
  {
   "cell_type": "code",
   "execution_count": 266,
   "metadata": {},
   "outputs": [
    {
     "name": "stdout",
     "output_type": "stream",
     "text": [
      "[1]\n"
     ]
    }
   ],
   "source": [
    "# Printing the predicted category tag\n",
    "\n",
    "print(y_custom_text_topic_pred)"
   ]
  },
  {
   "cell_type": "markdown",
   "metadata": {},
   "source": [
    "## The model has predicted 1 which is \"Credit card/prepaid card\""
   ]
  }
 ],
 "metadata": {
  "accelerator": "GPU",
  "colab": {
   "collapsed_sections": [
    "T9jD_6SeJrF3",
    "5DfCSbbmJrF4",
    "yYzD85nTJrGA",
    "piyLxzj6v07j",
    "280Vbqk-7a8M"
   ],
   "name": "Automatic_Ticket_Classification_Assignment.ipynb",
   "provenance": []
  },
  "gpuClass": "standard",
  "kernelspec": {
   "display_name": "Python 3",
   "language": "python",
   "name": "python3"
  },
  "language_info": {
   "codemirror_mode": {
    "name": "ipython",
    "version": 3
   },
   "file_extension": ".py",
   "mimetype": "text/x-python",
   "name": "python",
   "nbconvert_exporter": "python",
   "pygments_lexer": "ipython3",
   "version": "3.8.8"
  }
 },
 "nbformat": 4,
 "nbformat_minor": 1
}
